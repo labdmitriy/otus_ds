{
 "cells": [
  {
   "cell_type": "code",
   "execution_count": 215,
   "metadata": {},
   "outputs": [],
   "source": [
    "import re\n",
    "\n",
    "import numpy as np\n",
    "import pandas as pd\n",
    "from pandas import Series, DataFrame\n",
    "from scipy.sparse import csr_matrix\n",
    "\n",
    "from nltk.tokenize import RegexpTokenizer\n",
    "from nltk.corpus import stopwords\n",
    "\n",
    "from sklearn.base import BaseEstimator, TransformerMixin\n",
    "from sklearn.pipeline import Pipeline, FeatureUnion\n",
    "from sklearn.feature_extraction.text import CountVectorizer, TfidfVectorizer\n",
    "from sklearn.preprocessing import CategoricalEncoder, MinMaxScaler\n",
    "from sklearn.naive_bayes import MultinomialNB, BernoulliNB, GaussianNB\n",
    "from sklearn.grid_search import GridSearchCV\n",
    "from sklearn.decomposition import PCA, KernelPCA\n",
    "from sklearn.model_selection import train_test_split, learning_curve\n",
    "from sklearn.metrics import confusion_matrix, roc_auc_score\n",
    "\n",
    "import matplotlib.pyplot as plt\n",
    "import seaborn as sns\n",
    "%matplotlib inline"
   ]
  },
  {
   "cell_type": "code",
   "execution_count": 216,
   "metadata": {},
   "outputs": [],
   "source": [
    "plt.rcParams['figure.figsize'] = (8, 6)"
   ]
  },
  {
   "cell_type": "code",
   "execution_count": null,
   "metadata": {},
   "outputs": [],
   "source": []
  },
  {
   "cell_type": "code",
   "execution_count": 252,
   "metadata": {},
   "outputs": [
    {
     "data": {
      "text/html": [
       "<div>\n",
       "<style scoped>\n",
       "    .dataframe tbody tr th:only-of-type {\n",
       "        vertical-align: middle;\n",
       "    }\n",
       "\n",
       "    .dataframe tbody tr th {\n",
       "        vertical-align: top;\n",
       "    }\n",
       "\n",
       "    .dataframe thead th {\n",
       "        text-align: right;\n",
       "    }\n",
       "</style>\n",
       "<table border=\"1\" class=\"dataframe\">\n",
       "  <thead>\n",
       "    <tr style=\"text-align: right;\">\n",
       "      <th></th>\n",
       "      <th>city.id</th>\n",
       "      <th>city.title</th>\n",
       "      <th>education_form</th>\n",
       "      <th>education_status</th>\n",
       "      <th>faculty</th>\n",
       "      <th>faculty_name</th>\n",
       "      <th>first_name</th>\n",
       "      <th>followers_count</th>\n",
       "      <th>graduation</th>\n",
       "      <th>id</th>\n",
       "      <th>last_name</th>\n",
       "      <th>sex</th>\n",
       "      <th>university</th>\n",
       "      <th>university_name</th>\n",
       "    </tr>\n",
       "  </thead>\n",
       "  <tbody>\n",
       "    <tr>\n",
       "      <th>0</th>\n",
       "      <td>1.0</td>\n",
       "      <td>Москва</td>\n",
       "      <td>Очное отделение</td>\n",
       "      <td>Студент (специалист)</td>\n",
       "      <td>1124.0</td>\n",
       "      <td>Институт управления и информационных технологи...</td>\n",
       "      <td>Павел</td>\n",
       "      <td>277</td>\n",
       "      <td>2010.0</td>\n",
       "      <td>4813</td>\n",
       "      <td>Калугин</td>\n",
       "      <td>2</td>\n",
       "      <td>263.0</td>\n",
       "      <td>РУТ (МИИТ) (бывш. МГУПС Императора Николая II)</td>\n",
       "    </tr>\n",
       "    <tr>\n",
       "      <th>1</th>\n",
       "      <td>1.0</td>\n",
       "      <td>Москва</td>\n",
       "      <td>Очное отделение</td>\n",
       "      <td>None</td>\n",
       "      <td>2610.0</td>\n",
       "      <td>Факультет психологии</td>\n",
       "      <td>Натали</td>\n",
       "      <td>147</td>\n",
       "      <td>0.0</td>\n",
       "      <td>24499</td>\n",
       "      <td>Красовская</td>\n",
       "      <td>1</td>\n",
       "      <td>1276.0</td>\n",
       "      <td>МГОУ (бывш. МОПИ им. Н. К. Крупской)</td>\n",
       "    </tr>\n",
       "    <tr>\n",
       "      <th>2</th>\n",
       "      <td>53.0</td>\n",
       "      <td>Жуковский</td>\n",
       "      <td>Очное отделение</td>\n",
       "      <td>Студентка (специалист)</td>\n",
       "      <td>356.0</td>\n",
       "      <td>Финансовый</td>\n",
       "      <td>Татьяна</td>\n",
       "      <td>390</td>\n",
       "      <td>2010.0</td>\n",
       "      <td>34498</td>\n",
       "      <td>Корнилова</td>\n",
       "      <td>1</td>\n",
       "      <td>87.0</td>\n",
       "      <td>Финансовый университет (бывш. ГУМФ)</td>\n",
       "    </tr>\n",
       "    <tr>\n",
       "      <th>3</th>\n",
       "      <td>1.0</td>\n",
       "      <td>Москва</td>\n",
       "      <td>Очное отделение</td>\n",
       "      <td>Студент (магистр)</td>\n",
       "      <td>477.0</td>\n",
       "      <td>Международный институт экономики и финансов\\r\\n</td>\n",
       "      <td>Евгений</td>\n",
       "      <td>110</td>\n",
       "      <td>2010.0</td>\n",
       "      <td>42559</td>\n",
       "      <td>Кошелев</td>\n",
       "      <td>2</td>\n",
       "      <td>128.0</td>\n",
       "      <td>НИУ ВШЭ (ГУ-ВШЭ)</td>\n",
       "    </tr>\n",
       "    <tr>\n",
       "      <th>4</th>\n",
       "      <td>3910.0</td>\n",
       "      <td>Звенигород</td>\n",
       "      <td>Очное отделение</td>\n",
       "      <td>None</td>\n",
       "      <td>32.0</td>\n",
       "      <td>Механико-математический факультет</td>\n",
       "      <td>Александр</td>\n",
       "      <td>91</td>\n",
       "      <td>2004.0</td>\n",
       "      <td>47788</td>\n",
       "      <td>Соболев</td>\n",
       "      <td>2</td>\n",
       "      <td>2.0</td>\n",
       "      <td>МГУ</td>\n",
       "    </tr>\n",
       "  </tbody>\n",
       "</table>\n",
       "</div>"
      ],
      "text/plain": [
       "   city.id  city.title   education_form        education_status  faculty  \\\n",
       "0      1.0      Москва  Очное отделение    Студент (специалист)   1124.0   \n",
       "1      1.0      Москва  Очное отделение                    None   2610.0   \n",
       "2     53.0   Жуковский  Очное отделение  Студентка (специалист)    356.0   \n",
       "3      1.0      Москва  Очное отделение       Студент (магистр)    477.0   \n",
       "4   3910.0  Звенигород  Очное отделение                    None     32.0   \n",
       "\n",
       "                                        faculty_name first_name  \\\n",
       "0  Институт управления и информационных технологи...      Павел   \n",
       "1                               Факультет психологии     Натали   \n",
       "2                                         Финансовый    Татьяна   \n",
       "3    Международный институт экономики и финансов\\r\\n    Евгений   \n",
       "4                  Механико-математический факультет  Александр   \n",
       "\n",
       "   followers_count  graduation     id   last_name  sex  university  \\\n",
       "0              277      2010.0   4813     Калугин    2       263.0   \n",
       "1              147         0.0  24499  Красовская    1      1276.0   \n",
       "2              390      2010.0  34498   Корнилова    1        87.0   \n",
       "3              110      2010.0  42559     Кошелев    2       128.0   \n",
       "4               91      2004.0  47788     Соболев    2         2.0   \n",
       "\n",
       "                                  university_name  \n",
       "0  РУТ (МИИТ) (бывш. МГУПС Императора Николая II)  \n",
       "1            МГОУ (бывш. МОПИ им. Н. К. Крупской)  \n",
       "2             Финансовый университет (бывш. ГУМФ)  \n",
       "3                                НИУ ВШЭ (ГУ-ВШЭ)  \n",
       "4                                             МГУ  "
      ]
     },
     "execution_count": 252,
     "metadata": {},
     "output_type": "execute_result"
    }
   ],
   "source": [
    "# Загрузим общую информацию о собранных пользователях\n",
    "users_df = pd.read_json('./data/active_users.json', orient='records')\n",
    "users_df.head()"
   ]
  },
  {
   "cell_type": "code",
   "execution_count": null,
   "metadata": {},
   "outputs": [],
   "source": []
  },
  {
   "cell_type": "code",
   "execution_count": 253,
   "metadata": {},
   "outputs": [
    {
     "data": {
      "text/html": [
       "<div>\n",
       "<style scoped>\n",
       "    .dataframe tbody tr th:only-of-type {\n",
       "        vertical-align: middle;\n",
       "    }\n",
       "\n",
       "    .dataframe tbody tr th {\n",
       "        vertical-align: top;\n",
       "    }\n",
       "\n",
       "    .dataframe thead th {\n",
       "        text-align: right;\n",
       "    }\n",
       "</style>\n",
       "<table border=\"1\" class=\"dataframe\">\n",
       "  <thead>\n",
       "    <tr style=\"text-align: right;\">\n",
       "      <th></th>\n",
       "      <th>text</th>\n",
       "      <th>user_id</th>\n",
       "    </tr>\n",
       "  </thead>\n",
       "  <tbody>\n",
       "    <tr>\n",
       "      <th>0</th>\n",
       "      <td>💪🏽🔝</td>\n",
       "      <td>4813</td>\n",
       "    </tr>\n",
       "    <tr>\n",
       "      <th>1</th>\n",
       "      <td>Сегодня играем финал высшей лиги ЛВЛ сезона 20...</td>\n",
       "      <td>4813</td>\n",
       "    </tr>\n",
       "    <tr>\n",
       "      <th>2</th>\n",
       "      <td></td>\n",
       "      <td>4813</td>\n",
       "    </tr>\n",
       "    <tr>\n",
       "      <th>3</th>\n",
       "      <td>Отличный турнир 💪🏽 В отличной копании!</td>\n",
       "      <td>4813</td>\n",
       "    </tr>\n",
       "    <tr>\n",
       "      <th>4</th>\n",
       "      <td></td>\n",
       "      <td>4813</td>\n",
       "    </tr>\n",
       "  </tbody>\n",
       "</table>\n",
       "</div>"
      ],
      "text/plain": [
       "                                                text  user_id\n",
       "0                                                💪🏽🔝     4813\n",
       "1  Сегодня играем финал высшей лиги ЛВЛ сезона 20...     4813\n",
       "2                                                        4813\n",
       "3             Отличный турнир 💪🏽 В отличной копании!     4813\n",
       "4                                                        4813"
      ]
     },
     "execution_count": 253,
     "metadata": {},
     "output_type": "execute_result"
    }
   ],
   "source": [
    "# Загрузка сообщений со стены пользователей\n",
    "texts_df = pd.read_json('./data/all_texts.json', orient='records')\n",
    "texts_df.head()"
   ]
  },
  {
   "cell_type": "code",
   "execution_count": null,
   "metadata": {},
   "outputs": [],
   "source": []
  },
  {
   "cell_type": "code",
   "execution_count": 256,
   "metadata": {},
   "outputs": [],
   "source": [
    "class ColumnExtractor(BaseEstimator, TransformerMixin):\n",
    "    def __init__(self, columns):\n",
    "        self.columns = columns\n",
    "    \n",
    "    def fit(self, X, y=None):\n",
    "        return self\n",
    "    \n",
    "    def transform(self, X):\n",
    "        return X[self.columns]"
   ]
  },
  {
   "cell_type": "code",
   "execution_count": 257,
   "metadata": {},
   "outputs": [],
   "source": [
    "class TextsAugmenter(BaseEstimator, TransformerMixin):\n",
    "    def __init__(self, user_column, text_column):\n",
    "        self.user_column = user_column\n",
    "        self.text_column = text_column\n",
    "    \n",
    "    @staticmethod\n",
    "    def _augment_user_texts(texts):\n",
    "        return ' '.join(texts.tolist())\n",
    "\n",
    "    def fit(self, X, y=None):\n",
    "        return self\n",
    "    \n",
    "    def transform(self, X):\n",
    "        augmented_texts = DataFrame(X.groupby(self.user_column)[self.text_column]\n",
    "                                     .apply(self._augment_user_texts))\n",
    "        \n",
    "        return augmented_texts"
   ]
  },
  {
   "cell_type": "code",
   "execution_count": 258,
   "metadata": {},
   "outputs": [],
   "source": [
    "class CategoricalImputer(BaseEstimator, TransformerMixin):\n",
    "    def __init__(self, label=None):\n",
    "        self.label = label\n",
    "    \n",
    "    def fit(self, X, y=None):\n",
    "        if self.label:\n",
    "            self.fill_values_ = self.label \n",
    "        else:\n",
    "            self.fill_values_ = X.mode().iloc[0]\n",
    "        return self\n",
    "    \n",
    "    def transform(self, X):\n",
    "        return X.fillna(self.fill_values_).values"
   ]
  },
  {
   "cell_type": "code",
   "execution_count": 259,
   "metadata": {},
   "outputs": [],
   "source": [
    "class ArrayDensifier(BaseEstimator, TransformerMixin):\n",
    "    def __init__(self):\n",
    "        pass\n",
    "    \n",
    "    def fit(self, X, y=None):\n",
    "        return self\n",
    "    \n",
    "    def transform(self, X):\n",
    "        return X.toarray()"
   ]
  },
  {
   "cell_type": "code",
   "execution_count": 260,
   "metadata": {},
   "outputs": [],
   "source": [
    "class ArraySparsifier(BaseEstimator, TransformerMixin):\n",
    "    def __init__(self):\n",
    "        pass\n",
    "    \n",
    "    def fit(self, X, y=None):\n",
    "        return self\n",
    "    \n",
    "    def transform(self, X):\n",
    "        return csr_matrix(X)"
   ]
  },
  {
   "cell_type": "code",
   "execution_count": null,
   "metadata": {},
   "outputs": [],
   "source": [
    "# Стемминг и лемматизация тестировались при подборе параметров модели, \n",
    "# но улучшение оценки на кросс-валидации не удалось получить\n",
    "\n",
    "from nltk.stem import SnowballStemmer\n",
    "\n",
    "rus_stemmer = SnowballStemmer('russian')\n",
    "rus_stemmer.stem('volley')\n",
    "\n",
    "mystem = Mystem()\n",
    "\n",
    "class StemmedTfidfVectorizer(TfidfVectorizer):\n",
    "    def build_analyzer(self):\n",
    "        analyzer = super(StemmedTfidfVectorizer, self).build_analyzer()\n",
    "        return lambda doc: ([rus_stemmer.stem(w) for w in analyzer(doc)])"
   ]
  },
  {
   "cell_type": "code",
   "execution_count": null,
   "metadata": {},
   "outputs": [],
   "source": []
  },
  {
   "cell_type": "code",
   "execution_count": 226,
   "metadata": {},
   "outputs": [],
   "source": [
    "id_column = 'user_id'\n",
    "\n",
    "num_columns = ['followers_count']\n",
    "cat_columns = ['city.title', 'faculty', 'graduation', 'university']\n",
    "text_column = 'text'\n",
    "columns = num_columns + cat_columns + [text_column]\n",
    "\n",
    "target_column = 'sex'\n",
    "\n",
    "pattern = '([^\\W\\d_]{4,})'\n",
    "\n",
    "russian_stops = set(stopwords.words('russian'))\n",
    "english_stops = set(stopwords.words('english'))\n",
    "stop_words = russian_stops | english_stops"
   ]
  },
  {
   "cell_type": "code",
   "execution_count": 261,
   "metadata": {},
   "outputs": [],
   "source": [
    "# Преобразуем все сообщения пользователя в единый текст\n",
    "text_pipeline = Pipeline([\n",
    "    ('select columns', ColumnExtractor([id_column, text_column])),\n",
    "    ('augment user texts', TextsAugmenter(id_column, text_column))\n",
    "])"
   ]
  },
  {
   "cell_type": "code",
   "execution_count": 262,
   "metadata": {},
   "outputs": [
    {
     "data": {
      "text/html": [
       "<div>\n",
       "<style scoped>\n",
       "    .dataframe tbody tr th:only-of-type {\n",
       "        vertical-align: middle;\n",
       "    }\n",
       "\n",
       "    .dataframe tbody tr th {\n",
       "        vertical-align: top;\n",
       "    }\n",
       "\n",
       "    .dataframe thead th {\n",
       "        text-align: right;\n",
       "    }\n",
       "</style>\n",
       "<table border=\"1\" class=\"dataframe\">\n",
       "  <thead>\n",
       "    <tr style=\"text-align: right;\">\n",
       "      <th></th>\n",
       "      <th>text</th>\n",
       "    </tr>\n",
       "    <tr>\n",
       "      <th>user_id</th>\n",
       "      <th></th>\n",
       "    </tr>\n",
       "  </thead>\n",
       "  <tbody>\n",
       "    <tr>\n",
       "      <th>4813</th>\n",
       "      <td>💪🏽🔝 Сегодня играем финал высшей лиги ЛВЛ сезон...</td>\n",
       "    </tr>\n",
       "    <tr>\n",
       "      <th>34498</th>\n",
       "      <td>Для тех,кто любит пилатес Итак, подтягивание в...</td>\n",
       "    </tr>\n",
       "    <tr>\n",
       "      <th>42559</th>\n",
       "      <td>...</td>\n",
       "    </tr>\n",
       "    <tr>\n",
       "      <th>47788</th>\n",
       "      <td>Всех с наступающим новым годом!    Всем всем...</td>\n",
       "    </tr>\n",
       "    <tr>\n",
       "      <th>59524</th>\n",
       "      <td>Мама-лошадка 🏇приветствует тебя! И кагбэ намек...</td>\n",
       "    </tr>\n",
       "  </tbody>\n",
       "</table>\n",
       "</div>"
      ],
      "text/plain": [
       "                                                      text\n",
       "user_id                                                   \n",
       "4813     💪🏽🔝 Сегодня играем финал высшей лиги ЛВЛ сезон...\n",
       "34498    Для тех,кто любит пилатес Итак, подтягивание в...\n",
       "42559                                                  ...\n",
       "47788      Всех с наступающим новым годом!    Всем всем...\n",
       "59524    Мама-лошадка 🏇приветствует тебя! И кагбэ намек..."
      ]
     },
     "execution_count": 262,
     "metadata": {},
     "output_type": "execute_result"
    }
   ],
   "source": [
    "augmented_texts_df = text_pipeline.fit_transform(texts_df)\n",
    "augmented_texts_df.head()"
   ]
  },
  {
   "cell_type": "code",
   "execution_count": 263,
   "metadata": {},
   "outputs": [
    {
     "data": {
      "text/html": [
       "<div>\n",
       "<style scoped>\n",
       "    .dataframe tbody tr th:only-of-type {\n",
       "        vertical-align: middle;\n",
       "    }\n",
       "\n",
       "    .dataframe tbody tr th {\n",
       "        vertical-align: top;\n",
       "    }\n",
       "\n",
       "    .dataframe thead th {\n",
       "        text-align: right;\n",
       "    }\n",
       "</style>\n",
       "<table border=\"1\" class=\"dataframe\">\n",
       "  <thead>\n",
       "    <tr style=\"text-align: right;\">\n",
       "      <th></th>\n",
       "      <th>city.id</th>\n",
       "      <th>city.title</th>\n",
       "      <th>education_form</th>\n",
       "      <th>education_status</th>\n",
       "      <th>faculty</th>\n",
       "      <th>faculty_name</th>\n",
       "      <th>first_name</th>\n",
       "      <th>followers_count</th>\n",
       "      <th>graduation</th>\n",
       "      <th>id</th>\n",
       "      <th>last_name</th>\n",
       "      <th>sex</th>\n",
       "      <th>university</th>\n",
       "      <th>university_name</th>\n",
       "      <th>text</th>\n",
       "    </tr>\n",
       "  </thead>\n",
       "  <tbody>\n",
       "    <tr>\n",
       "      <th>0</th>\n",
       "      <td>1.0</td>\n",
       "      <td>Москва</td>\n",
       "      <td>Очное отделение</td>\n",
       "      <td>Студент (специалист)</td>\n",
       "      <td>1124.0</td>\n",
       "      <td>Институт управления и информационных технологи...</td>\n",
       "      <td>Павел</td>\n",
       "      <td>277</td>\n",
       "      <td>2010.0</td>\n",
       "      <td>4813</td>\n",
       "      <td>Калугин</td>\n",
       "      <td>2</td>\n",
       "      <td>263.0</td>\n",
       "      <td>РУТ (МИИТ) (бывш. МГУПС Императора Николая II)</td>\n",
       "      <td>💪🏽🔝 Сегодня играем финал высшей лиги ЛВЛ сезон...</td>\n",
       "    </tr>\n",
       "    <tr>\n",
       "      <th>1</th>\n",
       "      <td>1.0</td>\n",
       "      <td>Москва</td>\n",
       "      <td>Очное отделение</td>\n",
       "      <td>None</td>\n",
       "      <td>2610.0</td>\n",
       "      <td>Факультет психологии</td>\n",
       "      <td>Натали</td>\n",
       "      <td>147</td>\n",
       "      <td>0.0</td>\n",
       "      <td>24499</td>\n",
       "      <td>Красовская</td>\n",
       "      <td>1</td>\n",
       "      <td>1276.0</td>\n",
       "      <td>МГОУ (бывш. МОПИ им. Н. К. Крупской)</td>\n",
       "      <td></td>\n",
       "    </tr>\n",
       "    <tr>\n",
       "      <th>2</th>\n",
       "      <td>53.0</td>\n",
       "      <td>Жуковский</td>\n",
       "      <td>Очное отделение</td>\n",
       "      <td>Студентка (специалист)</td>\n",
       "      <td>356.0</td>\n",
       "      <td>Финансовый</td>\n",
       "      <td>Татьяна</td>\n",
       "      <td>390</td>\n",
       "      <td>2010.0</td>\n",
       "      <td>34498</td>\n",
       "      <td>Корнилова</td>\n",
       "      <td>1</td>\n",
       "      <td>87.0</td>\n",
       "      <td>Финансовый университет (бывш. ГУМФ)</td>\n",
       "      <td>Для тех,кто любит пилатес Итак, подтягивание в...</td>\n",
       "    </tr>\n",
       "    <tr>\n",
       "      <th>3</th>\n",
       "      <td>1.0</td>\n",
       "      <td>Москва</td>\n",
       "      <td>Очное отделение</td>\n",
       "      <td>Студент (магистр)</td>\n",
       "      <td>477.0</td>\n",
       "      <td>Международный институт экономики и финансов\\r\\n</td>\n",
       "      <td>Евгений</td>\n",
       "      <td>110</td>\n",
       "      <td>2010.0</td>\n",
       "      <td>42559</td>\n",
       "      <td>Кошелев</td>\n",
       "      <td>2</td>\n",
       "      <td>128.0</td>\n",
       "      <td>НИУ ВШЭ (ГУ-ВШЭ)</td>\n",
       "      <td>...</td>\n",
       "    </tr>\n",
       "    <tr>\n",
       "      <th>4</th>\n",
       "      <td>3910.0</td>\n",
       "      <td>Звенигород</td>\n",
       "      <td>Очное отделение</td>\n",
       "      <td>None</td>\n",
       "      <td>32.0</td>\n",
       "      <td>Механико-математический факультет</td>\n",
       "      <td>Александр</td>\n",
       "      <td>91</td>\n",
       "      <td>2004.0</td>\n",
       "      <td>47788</td>\n",
       "      <td>Соболев</td>\n",
       "      <td>2</td>\n",
       "      <td>2.0</td>\n",
       "      <td>МГУ</td>\n",
       "      <td>Всех с наступающим новым годом!    Всем всем...</td>\n",
       "    </tr>\n",
       "  </tbody>\n",
       "</table>\n",
       "</div>"
      ],
      "text/plain": [
       "   city.id  city.title   education_form        education_status  faculty  \\\n",
       "0      1.0      Москва  Очное отделение    Студент (специалист)   1124.0   \n",
       "1      1.0      Москва  Очное отделение                    None   2610.0   \n",
       "2     53.0   Жуковский  Очное отделение  Студентка (специалист)    356.0   \n",
       "3      1.0      Москва  Очное отделение       Студент (магистр)    477.0   \n",
       "4   3910.0  Звенигород  Очное отделение                    None     32.0   \n",
       "\n",
       "                                        faculty_name first_name  \\\n",
       "0  Институт управления и информационных технологи...      Павел   \n",
       "1                               Факультет психологии     Натали   \n",
       "2                                         Финансовый    Татьяна   \n",
       "3    Международный институт экономики и финансов\\r\\n    Евгений   \n",
       "4                  Механико-математический факультет  Александр   \n",
       "\n",
       "   followers_count  graduation     id   last_name  sex  university  \\\n",
       "0              277      2010.0   4813     Калугин    2       263.0   \n",
       "1              147         0.0  24499  Красовская    1      1276.0   \n",
       "2              390      2010.0  34498   Корнилова    1        87.0   \n",
       "3              110      2010.0  42559     Кошелев    2       128.0   \n",
       "4               91      2004.0  47788     Соболев    2         2.0   \n",
       "\n",
       "                                  university_name  \\\n",
       "0  РУТ (МИИТ) (бывш. МГУПС Императора Николая II)   \n",
       "1            МГОУ (бывш. МОПИ им. Н. К. Крупской)   \n",
       "2             Финансовый университет (бывш. ГУМФ)   \n",
       "3                                НИУ ВШЭ (ГУ-ВШЭ)   \n",
       "4                                             МГУ   \n",
       "\n",
       "                                                text  \n",
       "0  💪🏽🔝 Сегодня играем финал высшей лиги ЛВЛ сезон...  \n",
       "1                                                     \n",
       "2  Для тех,кто любит пилатес Итак, подтягивание в...  \n",
       "3                                                ...  \n",
       "4    Всех с наступающим новым годом!    Всем всем...  "
      ]
     },
     "execution_count": 263,
     "metadata": {},
     "output_type": "execute_result"
    }
   ],
   "source": [
    "# Объединим общую и текстовую информацию о пользователях\n",
    "df = pd.merge(users_df, augmented_texts_df, how='left', left_on='id', right_on='user_id')\n",
    "df['text'] = df['text'].fillna('')\n",
    "df.head()"
   ]
  },
  {
   "cell_type": "code",
   "execution_count": 265,
   "metadata": {},
   "outputs": [],
   "source": [
    "# Создадим pipeline обработки разных типов признаков и обучения/предсказания модели\n",
    "pipeline = Pipeline([\n",
    "    ('features', FeatureUnion([\n",
    "        ('categorical', Pipeline([\n",
    "            ('extract', ColumnExtractor(cat_columns)),\n",
    "            ('impute', CategoricalImputer()),\n",
    "            ('encode', CategoricalEncoder())\n",
    "        ])),\n",
    "        ('numeric', Pipeline([\n",
    "            ('extract', ColumnExtractor(num_columns)),\n",
    "            ('normalize', MinMaxScaler())\n",
    "        ])),\n",
    "        ('text', Pipeline([\n",
    "            ('extract', ColumnExtractor(text_column)),\n",
    "            ('vectorize', TfidfVectorizer()),\n",
    "        ])),\n",
    "    ])),\n",
    "    ('clf', MultinomialNB())\n",
    "])"
   ]
  },
  {
   "cell_type": "code",
   "execution_count": 267,
   "metadata": {},
   "outputs": [
    {
     "data": {
      "text/plain": [
       "((234, 14), (234,))"
      ]
     },
     "execution_count": 267,
     "metadata": {},
     "output_type": "execute_result"
    }
   ],
   "source": [
    "# Разделим данные датасет и целевой признак\n",
    "X = df.drop(target_column, axis=1)\n",
    "y = df[target_column]\n",
    "X.shape, y.shape"
   ]
  },
  {
   "cell_type": "code",
   "execution_count": 268,
   "metadata": {},
   "outputs": [
    {
     "data": {
      "text/plain": [
       "((210, 14), (24, 14), (210,), (24,))"
      ]
     },
     "execution_count": 268,
     "metadata": {},
     "output_type": "execute_result"
    }
   ],
   "source": [
    "# Разделим данные на тренировочный и тестовый датасеты\n",
    "X_train, X_test, y_train, y_test = train_test_split(X, y, test_size=0.1, stratify=y, random_state=42)\n",
    "X_train.shape, X_test.shape, y_train.shape, y_test.shape"
   ]
  },
  {
   "cell_type": "code",
   "execution_count": 269,
   "metadata": {
    "scrolled": false
   },
   "outputs": [
    {
     "data": {
      "text/plain": [
       "0.7235478411949001"
      ]
     },
     "execution_count": 269,
     "metadata": {},
     "output_type": "execute_result"
    }
   ],
   "source": [
    "# Проведем поиск параметров модели\n",
    "# В связи с большим кол-вом итераций поиска параметров, отображены только финальные значения\n",
    "# Все указанные ниже параметры использовались для тюнинга модели\n",
    "param_grid = {'clf': [MultinomialNB()],\n",
    "              'clf__alpha': [0.05],\n",
    "              'features__categorical__impute__label': [None],\n",
    "              'features__categorical__encode__encoding': ['onehot'],\n",
    "              'features__categorical__encode__handle_unknown': ['ignore'],\n",
    "              'features__text__vectorize__analyzer': ['word'],\n",
    "              'features__text__vectorize__lowercase': [True],\n",
    "              'features__text__vectorize__stop_words': [stop_words],\n",
    "              'features__text__vectorize__token_pattern': [pattern],\n",
    "              'features__text__vectorize__min_df': [4],\n",
    "              'features__text__vectorize__max_df': [70],\n",
    "              'features__text__vectorize__sublinear_tf': [True],\n",
    "              'features__text__vectorize__max_features': [25000],\n",
    "              'features__text__vectorize__ngram_range': [(1, 1)],\n",
    "              'features__text__vectorize__use_idf': [True],\n",
    "              'features__text__vectorize__smooth_idf': [True],\n",
    "              'features__text__vectorize__strip_accents': [None]}\n",
    "\n",
    "grid_search = GridSearchCV(pipeline, param_grid, scoring='roc_auc', verbose=0, n_jobs=1)\n",
    "grid_search.fit(X_train, y_train)\n",
    "grid_search.best_score_"
   ]
  },
  {
   "cell_type": "code",
   "execution_count": 270,
   "metadata": {
    "scrolled": false
   },
   "outputs": [
    {
     "data": {
      "text/plain": [
       "0.70833333333333337"
      ]
     },
     "execution_count": 270,
     "metadata": {},
     "output_type": "execute_result"
    }
   ],
   "source": [
    "roc_auc_score(y_test, grid_search.predict(X_test))"
   ]
  },
  {
   "cell_type": "code",
   "execution_count": 271,
   "metadata": {},
   "outputs": [
    {
     "data": {
      "text/plain": [
       "<module 'matplotlib.pyplot' from '/home/dlabazkin/miniconda3/envs/otus/lib/python3.6/site-packages/matplotlib/pyplot.py'>"
      ]
     },
     "execution_count": 271,
     "metadata": {},
     "output_type": "execute_result"
    },
    {
     "data": {
      "image/png": "[encoded data removed]",
      "text/plain": [
       "<Figure size 576x432 with 1 Axes>"
      ]
     },
     "metadata": {},
     "output_type": "display_data"
    }
   ],
   "source": [
    "# Построим learning curve для определения, достаточно ли данных для модели\n",
    "\n",
    "def plot_learning_curve(estimator, title, X, y, ylim=None, cv=None,\n",
    "                        n_jobs=1, train_sizes=np.linspace(.1, 1.0, 5),\n",
    "                        random_state=None):\n",
    "    plt.figure()\n",
    "    plt.title(title)\n",
    "    if ylim is not None:\n",
    "        plt.ylim(*ylim)\n",
    "    plt.xlabel(\"Training examples\")\n",
    "    plt.ylabel(\"Score\")\n",
    "    train_sizes, train_scores, test_scores = learning_curve(\n",
    "        estimator, X, y, cv=cv, n_jobs=n_jobs, train_sizes=train_sizes, \n",
    "        shuffle=True, random_state=random_state)\n",
    "    train_scores_mean = np.mean(train_scores, axis=1)\n",
    "    train_scores_std = np.std(train_scores, axis=1)\n",
    "    test_scores_mean = np.mean(test_scores, axis=1)\n",
    "    test_scores_std = np.std(test_scores, axis=1)\n",
    "    plt.grid()\n",
    "\n",
    "    plt.fill_between(train_sizes, train_scores_mean - train_scores_std,\n",
    "                     train_scores_mean + train_scores_std, alpha=0.1,\n",
    "                     color=\"r\")\n",
    "    plt.fill_between(train_sizes, test_scores_mean - test_scores_std,\n",
    "                     test_scores_mean + test_scores_std, alpha=0.1, color=\"g\")\n",
    "    plt.plot(train_sizes, train_scores_mean, 'o-', color=\"r\",\n",
    "             label=\"Training score\")\n",
    "    plt.plot(train_sizes, test_scores_mean, 'o-', color=\"g\",\n",
    "             label=\"Cross-validation score\")\n",
    "\n",
    "    plt.legend(loc=\"best\")\n",
    "    return plt\n",
    "\n",
    "plot_learning_curve(grid_search, '', X_train, y_train, cv=3, random_state=42)"
   ]
  },
  {
   "cell_type": "markdown",
   "metadata": {},
   "source": [
    "Как можно видеть из learning curve, модель недообучена, и возможно улучшение при добавлении дополнительных данных и признаков. Однако по причине длительного времени сбора данных, в данном случае используется небольшой датасете."
   ]
  },
  {
   "cell_type": "code",
   "execution_count": 272,
   "metadata": {},
   "outputs": [
    {
     "data": {
      "text/plain": [
       "Text(51,0.5,'Predicted labels')"
      ]
     },
     "execution_count": 272,
     "metadata": {},
     "output_type": "execute_result"
    },
    {
     "data": {
      "image/png": "[encoded data removed]",
      "text/plain": [
       "<Figure size 576x432 with 2 Axes>"
      ]
     },
     "metadata": {},
     "output_type": "display_data"
    }
   ],
   "source": [
    "# Посмотрим на распределение ошибок предсказания\n",
    "y_pred = grid_search.predict(X_test)\n",
    "\n",
    "fig, ax = plt.subplots()\n",
    "sns.heatmap(confusion_matrix(y_test, y_pred).T, annot=True)\n",
    "ax.set_xlabel('True labels')\n",
    "ax.set_ylabel('Predicted labels')"
   ]
  },
  {
   "cell_type": "code",
   "execution_count": null,
   "metadata": {},
   "outputs": [],
   "source": []
  },
  {
   "cell_type": "code",
   "execution_count": 274,
   "metadata": {},
   "outputs": [
    {
     "data": {
      "text/plain": [
       "0.70979020979020979"
      ]
     },
     "execution_count": 274,
     "metadata": {},
     "output_type": "execute_result"
    }
   ],
   "source": [
    "# 1й способ сохранить и загрузить обученную модель\n",
    "from sklearn.externals import joblib\n",
    "\n",
    "joblib.dump(grid_search.best_estimator_, './models/best_model_joblib.pkl')\n",
    "clf = joblib.load('./models/best_model_joblib.pkl')\n",
    "roc_auc_score(clf.predict(X_test), y_test)"
   ]
  },
  {
   "cell_type": "code",
   "execution_count": 275,
   "metadata": {},
   "outputs": [
    {
     "data": {
      "text/plain": [
       "0.70979020979020979"
      ]
     },
     "execution_count": 275,
     "metadata": {},
     "output_type": "execute_result"
    }
   ],
   "source": [
    "# 2й способ сохранить и загрузить обученную модель\n",
    "import pickle\n",
    "pickle.dump(grid_search.best_estimator_, open('./models/best_model.pkl', 'wb'))\n",
    "clf = pickle.load(open('./models/best_model.pkl', 'rb'))\n",
    "roc_auc_score(clf.predict(X_test), y_test)"
   ]
  },
  {
   "cell_type": "code",
   "execution_count": null,
   "metadata": {},
   "outputs": [],
   "source": []
  },
  {
   "cell_type": "markdown",
   "metadata": {},
   "source": [
    "### Predict"
   ]
  },
  {
   "cell_type": "markdown",
   "metadata": {},
   "source": [
    "Проведем тестирование предсказания на отдельном пользователе (до построения Telegram-бота)"
   ]
  },
  {
   "cell_type": "code",
   "execution_count": 277,
   "metadata": {},
   "outputs": [],
   "source": [
    "from time import sleep\n",
    "from urllib.parse import urlparse\n",
    "import requests"
   ]
  },
  {
   "cell_type": "code",
   "execution_count": 1,
   "metadata": {},
   "outputs": [
    {
     "data": {
      "text/plain": [
       "{'v': '5.78', 'access_token': ''}"
      ]
     },
     "execution_count": 1,
     "metadata": {},
     "output_type": "execute_result"
    }
   ],
   "source": [
    "url = 'https://api.vk.com/method/{}'\n",
    "access_token = ''\n",
    "version = '5.78'\n",
    "\n",
    "payload = {'v': version, 'access_token': access_token}\n",
    "payload"
   ]
  },
  {
   "cell_type": "code",
   "execution_count": 279,
   "metadata": {},
   "outputs": [
    {
     "data": {
      "text/plain": [
       "'id24609578'"
      ]
     },
     "execution_count": 279,
     "metadata": {},
     "output_type": "execute_result"
    }
   ],
   "source": [
    "user_url = 'https://vk.com/id24609578'\n",
    "user_screen_name = urlparse(user_url).path[1:]\n",
    "user_screen_name"
   ]
  },
  {
   "cell_type": "code",
   "execution_count": 280,
   "metadata": {
    "scrolled": true
   },
   "outputs": [
    {
     "data": {
      "text/plain": [
       "{'response': {'type': 'user', 'object_id': 24609578}}"
      ]
     },
     "execution_count": 280,
     "metadata": {},
     "output_type": "execute_result"
    }
   ],
   "source": [
    "utils_payload = payload.copy()\n",
    "utils_payload['screen_name'] = user_screen_name\n",
    "res = requests.get(url.format('utils.resolveScreenName'), params=utils_payload)\n",
    "res.json()"
   ]
  },
  {
   "cell_type": "code",
   "execution_count": 281,
   "metadata": {},
   "outputs": [
    {
     "data": {
      "text/plain": [
       "24609578"
      ]
     },
     "execution_count": 281,
     "metadata": {},
     "output_type": "execute_result"
    }
   ],
   "source": [
    "user_id = res.json()['response']['object_id']\n",
    "user_id"
   ]
  },
  {
   "cell_type": "code",
   "execution_count": 282,
   "metadata": {},
   "outputs": [],
   "source": [
    "def get_user_info(user_id, fields):\n",
    "    users_payload = payload.copy()\n",
    "    users_payload['user_ids'] = user_id\n",
    "    users_payload['fields'] = fields\n",
    "    users_payload\n",
    "\n",
    "    res = requests.get(url.format('users.get'), params=users_payload)\n",
    "    \n",
    "    response_df = pd.io.json.json_normalize(res.json()['response'])\n",
    "                                            \n",
    "    user_info_df = DataFrame(columns=columns)\n",
    "    user_info_df = user_info_df.append(response_df, ignore_index=True, sort=False)\n",
    "    \n",
    "    return user_info_df"
   ]
  },
  {
   "cell_type": "code",
   "execution_count": 283,
   "metadata": {},
   "outputs": [
    {
     "data": {
      "text/html": [
       "<div>\n",
       "<style scoped>\n",
       "    .dataframe tbody tr th:only-of-type {\n",
       "        vertical-align: middle;\n",
       "    }\n",
       "\n",
       "    .dataframe tbody tr th {\n",
       "        vertical-align: top;\n",
       "    }\n",
       "\n",
       "    .dataframe thead th {\n",
       "        text-align: right;\n",
       "    }\n",
       "</style>\n",
       "<table border=\"1\" class=\"dataframe\">\n",
       "  <thead>\n",
       "    <tr style=\"text-align: right;\">\n",
       "      <th></th>\n",
       "      <th>followers_count</th>\n",
       "      <th>city.title</th>\n",
       "      <th>faculty</th>\n",
       "      <th>graduation</th>\n",
       "      <th>university</th>\n",
       "      <th>text</th>\n",
       "      <th>faculty_name</th>\n",
       "      <th>first_name</th>\n",
       "      <th>id</th>\n",
       "      <th>last_name</th>\n",
       "      <th>sex</th>\n",
       "      <th>university_name</th>\n",
       "    </tr>\n",
       "  </thead>\n",
       "  <tbody>\n",
       "    <tr>\n",
       "      <th>0</th>\n",
       "      <td>105</td>\n",
       "      <td>NaN</td>\n",
       "      <td>0</td>\n",
       "      <td>0</td>\n",
       "      <td>0</td>\n",
       "      <td>NaN</td>\n",
       "      <td></td>\n",
       "      <td>Ivan</td>\n",
       "      <td>24609578.0</td>\n",
       "      <td>Rudko</td>\n",
       "      <td>2.0</td>\n",
       "      <td></td>\n",
       "    </tr>\n",
       "  </tbody>\n",
       "</table>\n",
       "</div>"
      ],
      "text/plain": [
       "  followers_count city.title faculty graduation university text faculty_name  \\\n",
       "0             105        NaN       0          0          0  NaN                \n",
       "\n",
       "  first_name          id last_name  sex university_name  \n",
       "0       Ivan  24609578.0     Rudko  2.0                  "
      ]
     },
     "execution_count": 283,
     "metadata": {},
     "output_type": "execute_result"
    }
   ],
   "source": [
    "fields = 'city,education,followers_count,sex'\n",
    "\n",
    "user_info_df = get_user_info(user_id, fields)\n",
    "user_info_df"
   ]
  },
  {
   "cell_type": "code",
   "execution_count": 284,
   "metadata": {},
   "outputs": [],
   "source": [
    "def get_user_wall_posts(user_id):\n",
    "    wall_payload = payload.copy()\n",
    "    wall_count = 100\n",
    "    wall_payload['count'] = wall_count\n",
    "    wall_payload['filter'] = 'owner'\n",
    "\n",
    "    posts_count = 0\n",
    "    offset = 0\n",
    "    \n",
    "    wall_payload['offset'] = offset\n",
    "    wall_payload['owner_id'] = user_id\n",
    "\n",
    "    res = requests.get(url.format('wall.get'), params=wall_payload)\n",
    "    total_wall_count = res.json()['response']['count']\n",
    "\n",
    "    try:\n",
    "        posts = res.json()['response']['items']\n",
    "    except KeyError:\n",
    "        print('Error: {}'.format(res.json()['error']))\n",
    "        raise\n",
    "\n",
    "    print('user_id: {}, # posts: {}'.format(user_id, total_wall_count))\n",
    "\n",
    "    if not posts:\n",
    "        all_texts_df = DataFrame({'user_id': [user_id], 'text': ['']}) \n",
    "        return all_texts_df\n",
    "    \n",
    "    texts = pd.io.json.json_normalize(posts)['text']\n",
    "    texts_df = DataFrame({'user_id': user_id, 'text': texts})   \n",
    "    \n",
    "    all_texts_df = DataFrame(columns = ['user_id', 'text'])\n",
    "    all_texts_df = all_texts_df.append(texts_df, ignore_index=True)\n",
    "    posts_count += len(texts)\n",
    "\n",
    "    while True:\n",
    "        sleep(0.5)\n",
    "        offset += wall_count\n",
    "        wall_payload['offset'] = offset\n",
    "\n",
    "        res = requests.get(url.format('wall.get'), params=wall_payload)\n",
    "\n",
    "        try:\n",
    "            posts = res.json()['response']['items']\n",
    "        except KeyError:\n",
    "            print('Error: {}'.format(res.json()['error']))\n",
    "            raise\n",
    "\n",
    "        if not posts:\n",
    "            break\n",
    "\n",
    "        texts = pd.io.json.json_normalize(posts)['text']\n",
    "        texts_df = DataFrame({'user_id': user_id, 'text': texts})        \n",
    "        all_texts_df = all_texts_df.append(texts_df, ignore_index=True)\n",
    "        posts_count += len(texts)\n",
    "\n",
    "    print('Total posts count: {}'.format(posts_count))\n",
    "    \n",
    "    return all_texts_df"
   ]
  },
  {
   "cell_type": "code",
   "execution_count": 285,
   "metadata": {},
   "outputs": [
    {
     "name": "stdout",
     "output_type": "stream",
     "text": [
      "user_id: 24609578, # posts: 82\n",
      "Total posts count: 82\n"
     ]
    },
    {
     "data": {
      "text/html": [
       "<div>\n",
       "<style scoped>\n",
       "    .dataframe tbody tr th:only-of-type {\n",
       "        vertical-align: middle;\n",
       "    }\n",
       "\n",
       "    .dataframe tbody tr th {\n",
       "        vertical-align: top;\n",
       "    }\n",
       "\n",
       "    .dataframe thead th {\n",
       "        text-align: right;\n",
       "    }\n",
       "</style>\n",
       "<table border=\"1\" class=\"dataframe\">\n",
       "  <thead>\n",
       "    <tr style=\"text-align: right;\">\n",
       "      <th></th>\n",
       "      <th>user_id</th>\n",
       "      <th>text</th>\n",
       "    </tr>\n",
       "  </thead>\n",
       "  <tbody>\n",
       "    <tr>\n",
       "      <th>0</th>\n",
       "      <td>24609578</td>\n",
       "      <td>Ghost in the Shell (2017) - The Opening Scene ...</td>\n",
       "    </tr>\n",
       "    <tr>\n",
       "      <th>1</th>\n",
       "      <td>24609578</td>\n",
       "      <td></td>\n",
       "    </tr>\n",
       "    <tr>\n",
       "      <th>2</th>\n",
       "      <td>24609578</td>\n",
       "      <td>http://csharpsourescode.blogspot.ru/2014/10/ap...</td>\n",
       "    </tr>\n",
       "    <tr>\n",
       "      <th>3</th>\n",
       "      <td>24609578</td>\n",
       "      <td></td>\n",
       "    </tr>\n",
       "    <tr>\n",
       "      <th>4</th>\n",
       "      <td>24609578</td>\n",
       "      <td>Аффинаж - Нравится</td>\n",
       "    </tr>\n",
       "  </tbody>\n",
       "</table>\n",
       "</div>"
      ],
      "text/plain": [
       "    user_id                                               text\n",
       "0  24609578  Ghost in the Shell (2017) - The Opening Scene ...\n",
       "1  24609578                                                   \n",
       "2  24609578  http://csharpsourescode.blogspot.ru/2014/10/ap...\n",
       "3  24609578                                                   \n",
       "4  24609578                                 Аффинаж - Нравится"
      ]
     },
     "execution_count": 285,
     "metadata": {},
     "output_type": "execute_result"
    }
   ],
   "source": [
    "user_texts_df = get_user_wall_posts(user_id)\n",
    "user_texts_df.head()"
   ]
  },
  {
   "cell_type": "code",
   "execution_count": 286,
   "metadata": {},
   "outputs": [
    {
     "data": {
      "text/html": [
       "<div>\n",
       "<style scoped>\n",
       "    .dataframe tbody tr th:only-of-type {\n",
       "        vertical-align: middle;\n",
       "    }\n",
       "\n",
       "    .dataframe tbody tr th {\n",
       "        vertical-align: top;\n",
       "    }\n",
       "\n",
       "    .dataframe thead th {\n",
       "        text-align: right;\n",
       "    }\n",
       "</style>\n",
       "<table border=\"1\" class=\"dataframe\">\n",
       "  <thead>\n",
       "    <tr style=\"text-align: right;\">\n",
       "      <th></th>\n",
       "      <th>followers_count</th>\n",
       "      <th>city.title</th>\n",
       "      <th>faculty</th>\n",
       "      <th>graduation</th>\n",
       "      <th>university</th>\n",
       "      <th>text</th>\n",
       "      <th>faculty_name</th>\n",
       "      <th>first_name</th>\n",
       "      <th>id</th>\n",
       "      <th>last_name</th>\n",
       "      <th>sex</th>\n",
       "      <th>university_name</th>\n",
       "    </tr>\n",
       "  </thead>\n",
       "  <tbody>\n",
       "    <tr>\n",
       "      <th>0</th>\n",
       "      <td>105</td>\n",
       "      <td>NaN</td>\n",
       "      <td>0</td>\n",
       "      <td>0</td>\n",
       "      <td>0</td>\n",
       "      <td>Ghost in the Shell (2017) - The Opening Scene ...</td>\n",
       "      <td></td>\n",
       "      <td>Ivan</td>\n",
       "      <td>24609578.0</td>\n",
       "      <td>Rudko</td>\n",
       "      <td>2.0</td>\n",
       "      <td></td>\n",
       "    </tr>\n",
       "  </tbody>\n",
       "</table>\n",
       "</div>"
      ],
      "text/plain": [
       "  followers_count city.title faculty graduation university  \\\n",
       "0             105        NaN       0          0          0   \n",
       "\n",
       "                                                text faculty_name first_name  \\\n",
       "0  Ghost in the Shell (2017) - The Opening Scene ...                    Ivan   \n",
       "\n",
       "           id last_name  sex university_name  \n",
       "0  24609578.0     Rudko  2.0                  "
      ]
     },
     "execution_count": 286,
     "metadata": {},
     "output_type": "execute_result"
    }
   ],
   "source": [
    "user_text = text_pipeline.fit_transform(user_texts_df)['text'].values\n",
    "user_info_df.loc[0, 'text'] = user_text\n",
    "user_info_df.head()"
   ]
  },
  {
   "cell_type": "code",
   "execution_count": 287,
   "metadata": {},
   "outputs": [
    {
     "data": {
      "text/plain": [
       "((1, 11), (1,))"
      ]
     },
     "execution_count": 287,
     "metadata": {},
     "output_type": "execute_result"
    }
   ],
   "source": [
    "X_test = user_info_df.drop(target_column, axis=1)\n",
    "y_test = user_info_df[target_column]\n",
    "X_test.shape, y_test.shape"
   ]
  },
  {
   "cell_type": "code",
   "execution_count": 288,
   "metadata": {},
   "outputs": [
    {
     "data": {
      "text/plain": [
       "array([[ 0.22,  0.78]])"
      ]
     },
     "execution_count": 288,
     "metadata": {},
     "output_type": "execute_result"
    }
   ],
   "source": [
    "np.round(clf.predict_proba(X_test), 2)"
   ]
  },
  {
   "cell_type": "code",
   "execution_count": null,
   "metadata": {},
   "outputs": [],
   "source": []
  },
  {
   "cell_type": "code",
   "execution_count": null,
   "metadata": {},
   "outputs": [],
   "source": []
  }
 ],
 "metadata": {
  "kernelspec": {
   "display_name": "Python 3",
   "language": "python",
   "name": "python3"
  },
  "language_info": {
   "codemirror_mode": {
    "name": "ipython",
    "version": 3
   },
   "file_extension": ".py",
   "mimetype": "text/x-python",
   "name": "python",
   "nbconvert_exporter": "python",
   "pygments_lexer": "ipython3",
   "version": "3.6.5"
  }
 },
 "nbformat": 4,
 "nbformat_minor": 2
}
