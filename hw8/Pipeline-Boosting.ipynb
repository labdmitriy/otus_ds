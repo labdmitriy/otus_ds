{
 "cells": [
  {
   "cell_type": "code",
   "execution_count": 1,
   "metadata": {},
   "outputs": [],
   "source": [
    "import numpy as np\n",
    "import pandas as pd\n",
    "from pandas import Series, DataFrame\n",
    "import matplotlib.pyplot as plt\n",
    "import seaborn as sns\n",
    "\n",
    "%matplotlib inline\n",
    "plt.rcParams['figure.figsize'] = (10, 8)"
   ]
  },
  {
   "cell_type": "code",
   "execution_count": 2,
   "metadata": {},
   "outputs": [
    {
     "data": {
      "text/html": [
       "<div>\n",
       "<style scoped>\n",
       "    .dataframe tbody tr th:only-of-type {\n",
       "        vertical-align: middle;\n",
       "    }\n",
       "\n",
       "    .dataframe tbody tr th {\n",
       "        vertical-align: top;\n",
       "    }\n",
       "\n",
       "    .dataframe thead th {\n",
       "        text-align: right;\n",
       "    }\n",
       "</style>\n",
       "<table border=\"1\" class=\"dataframe\">\n",
       "  <thead>\n",
       "    <tr style=\"text-align: right;\">\n",
       "      <th></th>\n",
       "      <th>sk_id_curr</th>\n",
       "      <th>target</th>\n",
       "      <th>name_contract_type</th>\n",
       "      <th>code_gender</th>\n",
       "      <th>flag_own_car</th>\n",
       "      <th>flag_own_realty</th>\n",
       "      <th>cnt_children</th>\n",
       "      <th>amt_income_total</th>\n",
       "      <th>amt_credit</th>\n",
       "      <th>amt_annuity</th>\n",
       "      <th>...</th>\n",
       "      <th>flag_document_18</th>\n",
       "      <th>flag_document_19</th>\n",
       "      <th>flag_document_20</th>\n",
       "      <th>flag_document_21</th>\n",
       "      <th>amt_req_credit_bureau_hour</th>\n",
       "      <th>amt_req_credit_bureau_day</th>\n",
       "      <th>amt_req_credit_bureau_week</th>\n",
       "      <th>amt_req_credit_bureau_mon</th>\n",
       "      <th>amt_req_credit_bureau_qrt</th>\n",
       "      <th>amt_req_credit_bureau_year</th>\n",
       "    </tr>\n",
       "  </thead>\n",
       "  <tbody>\n",
       "    <tr>\n",
       "      <th>0</th>\n",
       "      <td>100002</td>\n",
       "      <td>1</td>\n",
       "      <td>Cash loans</td>\n",
       "      <td>M</td>\n",
       "      <td>N</td>\n",
       "      <td>Y</td>\n",
       "      <td>0</td>\n",
       "      <td>202500.0</td>\n",
       "      <td>406597.5</td>\n",
       "      <td>24700.5</td>\n",
       "      <td>...</td>\n",
       "      <td>0</td>\n",
       "      <td>0</td>\n",
       "      <td>0</td>\n",
       "      <td>0</td>\n",
       "      <td>0.0</td>\n",
       "      <td>0.0</td>\n",
       "      <td>0.0</td>\n",
       "      <td>0.0</td>\n",
       "      <td>0.0</td>\n",
       "      <td>1.0</td>\n",
       "    </tr>\n",
       "    <tr>\n",
       "      <th>1</th>\n",
       "      <td>100003</td>\n",
       "      <td>0</td>\n",
       "      <td>Cash loans</td>\n",
       "      <td>F</td>\n",
       "      <td>N</td>\n",
       "      <td>N</td>\n",
       "      <td>0</td>\n",
       "      <td>270000.0</td>\n",
       "      <td>1293502.5</td>\n",
       "      <td>35698.5</td>\n",
       "      <td>...</td>\n",
       "      <td>0</td>\n",
       "      <td>0</td>\n",
       "      <td>0</td>\n",
       "      <td>0</td>\n",
       "      <td>0.0</td>\n",
       "      <td>0.0</td>\n",
       "      <td>0.0</td>\n",
       "      <td>0.0</td>\n",
       "      <td>0.0</td>\n",
       "      <td>0.0</td>\n",
       "    </tr>\n",
       "    <tr>\n",
       "      <th>2</th>\n",
       "      <td>100004</td>\n",
       "      <td>0</td>\n",
       "      <td>Revolving loans</td>\n",
       "      <td>M</td>\n",
       "      <td>Y</td>\n",
       "      <td>Y</td>\n",
       "      <td>0</td>\n",
       "      <td>67500.0</td>\n",
       "      <td>135000.0</td>\n",
       "      <td>6750.0</td>\n",
       "      <td>...</td>\n",
       "      <td>0</td>\n",
       "      <td>0</td>\n",
       "      <td>0</td>\n",
       "      <td>0</td>\n",
       "      <td>0.0</td>\n",
       "      <td>0.0</td>\n",
       "      <td>0.0</td>\n",
       "      <td>0.0</td>\n",
       "      <td>0.0</td>\n",
       "      <td>0.0</td>\n",
       "    </tr>\n",
       "    <tr>\n",
       "      <th>3</th>\n",
       "      <td>100006</td>\n",
       "      <td>0</td>\n",
       "      <td>Cash loans</td>\n",
       "      <td>F</td>\n",
       "      <td>N</td>\n",
       "      <td>Y</td>\n",
       "      <td>0</td>\n",
       "      <td>135000.0</td>\n",
       "      <td>312682.5</td>\n",
       "      <td>29686.5</td>\n",
       "      <td>...</td>\n",
       "      <td>0</td>\n",
       "      <td>0</td>\n",
       "      <td>0</td>\n",
       "      <td>0</td>\n",
       "      <td>NaN</td>\n",
       "      <td>NaN</td>\n",
       "      <td>NaN</td>\n",
       "      <td>NaN</td>\n",
       "      <td>NaN</td>\n",
       "      <td>NaN</td>\n",
       "    </tr>\n",
       "    <tr>\n",
       "      <th>4</th>\n",
       "      <td>100007</td>\n",
       "      <td>0</td>\n",
       "      <td>Cash loans</td>\n",
       "      <td>M</td>\n",
       "      <td>N</td>\n",
       "      <td>Y</td>\n",
       "      <td>0</td>\n",
       "      <td>121500.0</td>\n",
       "      <td>513000.0</td>\n",
       "      <td>21865.5</td>\n",
       "      <td>...</td>\n",
       "      <td>0</td>\n",
       "      <td>0</td>\n",
       "      <td>0</td>\n",
       "      <td>0</td>\n",
       "      <td>0.0</td>\n",
       "      <td>0.0</td>\n",
       "      <td>0.0</td>\n",
       "      <td>0.0</td>\n",
       "      <td>0.0</td>\n",
       "      <td>0.0</td>\n",
       "    </tr>\n",
       "  </tbody>\n",
       "</table>\n",
       "<p>5 rows × 122 columns</p>\n",
       "</div>"
      ],
      "text/plain": [
       "   sk_id_curr  target name_contract_type code_gender flag_own_car  \\\n",
       "0      100002       1         Cash loans           M            N   \n",
       "1      100003       0         Cash loans           F            N   \n",
       "2      100004       0    Revolving loans           M            Y   \n",
       "3      100006       0         Cash loans           F            N   \n",
       "4      100007       0         Cash loans           M            N   \n",
       "\n",
       "  flag_own_realty  cnt_children  amt_income_total  amt_credit  amt_annuity  \\\n",
       "0               Y             0          202500.0    406597.5      24700.5   \n",
       "1               N             0          270000.0   1293502.5      35698.5   \n",
       "2               Y             0           67500.0    135000.0       6750.0   \n",
       "3               Y             0          135000.0    312682.5      29686.5   \n",
       "4               Y             0          121500.0    513000.0      21865.5   \n",
       "\n",
       "              ...              flag_document_18 flag_document_19  \\\n",
       "0             ...                             0                0   \n",
       "1             ...                             0                0   \n",
       "2             ...                             0                0   \n",
       "3             ...                             0                0   \n",
       "4             ...                             0                0   \n",
       "\n",
       "  flag_document_20 flag_document_21 amt_req_credit_bureau_hour  \\\n",
       "0                0                0                        0.0   \n",
       "1                0                0                        0.0   \n",
       "2                0                0                        0.0   \n",
       "3                0                0                        NaN   \n",
       "4                0                0                        0.0   \n",
       "\n",
       "  amt_req_credit_bureau_day  amt_req_credit_bureau_week  \\\n",
       "0                       0.0                         0.0   \n",
       "1                       0.0                         0.0   \n",
       "2                       0.0                         0.0   \n",
       "3                       NaN                         NaN   \n",
       "4                       0.0                         0.0   \n",
       "\n",
       "   amt_req_credit_bureau_mon  amt_req_credit_bureau_qrt  \\\n",
       "0                        0.0                        0.0   \n",
       "1                        0.0                        0.0   \n",
       "2                        0.0                        0.0   \n",
       "3                        NaN                        NaN   \n",
       "4                        0.0                        0.0   \n",
       "\n",
       "   amt_req_credit_bureau_year  \n",
       "0                         1.0  \n",
       "1                         0.0  \n",
       "2                         0.0  \n",
       "3                         NaN  \n",
       "4                         0.0  \n",
       "\n",
       "[5 rows x 122 columns]"
      ]
     },
     "execution_count": 2,
     "metadata": {},
     "output_type": "execute_result"
    }
   ],
   "source": [
    "train_df = pd.read_csv('./data/application_train.csv.zip')\n",
    "train_df = train_df.rename(lambda x: x.lower(), axis=1)\n",
    "train_df.head()"
   ]
  },
  {
   "cell_type": "code",
   "execution_count": 3,
   "metadata": {},
   "outputs": [
    {
     "data": {
      "text/html": [
       "<div>\n",
       "<style scoped>\n",
       "    .dataframe tbody tr th:only-of-type {\n",
       "        vertical-align: middle;\n",
       "    }\n",
       "\n",
       "    .dataframe tbody tr th {\n",
       "        vertical-align: top;\n",
       "    }\n",
       "\n",
       "    .dataframe thead th {\n",
       "        text-align: right;\n",
       "    }\n",
       "</style>\n",
       "<table border=\"1\" class=\"dataframe\">\n",
       "  <thead>\n",
       "    <tr style=\"text-align: right;\">\n",
       "      <th></th>\n",
       "      <th>sk_id_curr</th>\n",
       "      <th>name_contract_type</th>\n",
       "      <th>code_gender</th>\n",
       "      <th>flag_own_car</th>\n",
       "      <th>flag_own_realty</th>\n",
       "      <th>cnt_children</th>\n",
       "      <th>amt_income_total</th>\n",
       "      <th>amt_credit</th>\n",
       "      <th>amt_annuity</th>\n",
       "      <th>amt_goods_price</th>\n",
       "      <th>...</th>\n",
       "      <th>flag_document_18</th>\n",
       "      <th>flag_document_19</th>\n",
       "      <th>flag_document_20</th>\n",
       "      <th>flag_document_21</th>\n",
       "      <th>amt_req_credit_bureau_hour</th>\n",
       "      <th>amt_req_credit_bureau_day</th>\n",
       "      <th>amt_req_credit_bureau_week</th>\n",
       "      <th>amt_req_credit_bureau_mon</th>\n",
       "      <th>amt_req_credit_bureau_qrt</th>\n",
       "      <th>amt_req_credit_bureau_year</th>\n",
       "    </tr>\n",
       "  </thead>\n",
       "  <tbody>\n",
       "    <tr>\n",
       "      <th>0</th>\n",
       "      <td>100001</td>\n",
       "      <td>Cash loans</td>\n",
       "      <td>F</td>\n",
       "      <td>N</td>\n",
       "      <td>Y</td>\n",
       "      <td>0</td>\n",
       "      <td>135000.0</td>\n",
       "      <td>568800.0</td>\n",
       "      <td>20560.5</td>\n",
       "      <td>450000.0</td>\n",
       "      <td>...</td>\n",
       "      <td>0</td>\n",
       "      <td>0</td>\n",
       "      <td>0</td>\n",
       "      <td>0</td>\n",
       "      <td>0.0</td>\n",
       "      <td>0.0</td>\n",
       "      <td>0.0</td>\n",
       "      <td>0.0</td>\n",
       "      <td>0.0</td>\n",
       "      <td>0.0</td>\n",
       "    </tr>\n",
       "    <tr>\n",
       "      <th>1</th>\n",
       "      <td>100005</td>\n",
       "      <td>Cash loans</td>\n",
       "      <td>M</td>\n",
       "      <td>N</td>\n",
       "      <td>Y</td>\n",
       "      <td>0</td>\n",
       "      <td>99000.0</td>\n",
       "      <td>222768.0</td>\n",
       "      <td>17370.0</td>\n",
       "      <td>180000.0</td>\n",
       "      <td>...</td>\n",
       "      <td>0</td>\n",
       "      <td>0</td>\n",
       "      <td>0</td>\n",
       "      <td>0</td>\n",
       "      <td>0.0</td>\n",
       "      <td>0.0</td>\n",
       "      <td>0.0</td>\n",
       "      <td>0.0</td>\n",
       "      <td>0.0</td>\n",
       "      <td>3.0</td>\n",
       "    </tr>\n",
       "    <tr>\n",
       "      <th>2</th>\n",
       "      <td>100013</td>\n",
       "      <td>Cash loans</td>\n",
       "      <td>M</td>\n",
       "      <td>Y</td>\n",
       "      <td>Y</td>\n",
       "      <td>0</td>\n",
       "      <td>202500.0</td>\n",
       "      <td>663264.0</td>\n",
       "      <td>69777.0</td>\n",
       "      <td>630000.0</td>\n",
       "      <td>...</td>\n",
       "      <td>0</td>\n",
       "      <td>0</td>\n",
       "      <td>0</td>\n",
       "      <td>0</td>\n",
       "      <td>0.0</td>\n",
       "      <td>0.0</td>\n",
       "      <td>0.0</td>\n",
       "      <td>0.0</td>\n",
       "      <td>1.0</td>\n",
       "      <td>4.0</td>\n",
       "    </tr>\n",
       "    <tr>\n",
       "      <th>3</th>\n",
       "      <td>100028</td>\n",
       "      <td>Cash loans</td>\n",
       "      <td>F</td>\n",
       "      <td>N</td>\n",
       "      <td>Y</td>\n",
       "      <td>2</td>\n",
       "      <td>315000.0</td>\n",
       "      <td>1575000.0</td>\n",
       "      <td>49018.5</td>\n",
       "      <td>1575000.0</td>\n",
       "      <td>...</td>\n",
       "      <td>0</td>\n",
       "      <td>0</td>\n",
       "      <td>0</td>\n",
       "      <td>0</td>\n",
       "      <td>0.0</td>\n",
       "      <td>0.0</td>\n",
       "      <td>0.0</td>\n",
       "      <td>0.0</td>\n",
       "      <td>0.0</td>\n",
       "      <td>3.0</td>\n",
       "    </tr>\n",
       "    <tr>\n",
       "      <th>4</th>\n",
       "      <td>100038</td>\n",
       "      <td>Cash loans</td>\n",
       "      <td>M</td>\n",
       "      <td>Y</td>\n",
       "      <td>N</td>\n",
       "      <td>1</td>\n",
       "      <td>180000.0</td>\n",
       "      <td>625500.0</td>\n",
       "      <td>32067.0</td>\n",
       "      <td>625500.0</td>\n",
       "      <td>...</td>\n",
       "      <td>0</td>\n",
       "      <td>0</td>\n",
       "      <td>0</td>\n",
       "      <td>0</td>\n",
       "      <td>NaN</td>\n",
       "      <td>NaN</td>\n",
       "      <td>NaN</td>\n",
       "      <td>NaN</td>\n",
       "      <td>NaN</td>\n",
       "      <td>NaN</td>\n",
       "    </tr>\n",
       "  </tbody>\n",
       "</table>\n",
       "<p>5 rows × 121 columns</p>\n",
       "</div>"
      ],
      "text/plain": [
       "   sk_id_curr name_contract_type code_gender flag_own_car flag_own_realty  \\\n",
       "0      100001         Cash loans           F            N               Y   \n",
       "1      100005         Cash loans           M            N               Y   \n",
       "2      100013         Cash loans           M            Y               Y   \n",
       "3      100028         Cash loans           F            N               Y   \n",
       "4      100038         Cash loans           M            Y               N   \n",
       "\n",
       "   cnt_children  amt_income_total  amt_credit  amt_annuity  amt_goods_price  \\\n",
       "0             0          135000.0    568800.0      20560.5         450000.0   \n",
       "1             0           99000.0    222768.0      17370.0         180000.0   \n",
       "2             0          202500.0    663264.0      69777.0         630000.0   \n",
       "3             2          315000.0   1575000.0      49018.5        1575000.0   \n",
       "4             1          180000.0    625500.0      32067.0         625500.0   \n",
       "\n",
       "              ...             flag_document_18 flag_document_19  \\\n",
       "0             ...                            0                0   \n",
       "1             ...                            0                0   \n",
       "2             ...                            0                0   \n",
       "3             ...                            0                0   \n",
       "4             ...                            0                0   \n",
       "\n",
       "  flag_document_20 flag_document_21 amt_req_credit_bureau_hour  \\\n",
       "0                0                0                        0.0   \n",
       "1                0                0                        0.0   \n",
       "2                0                0                        0.0   \n",
       "3                0                0                        0.0   \n",
       "4                0                0                        NaN   \n",
       "\n",
       "   amt_req_credit_bureau_day  amt_req_credit_bureau_week  \\\n",
       "0                        0.0                         0.0   \n",
       "1                        0.0                         0.0   \n",
       "2                        0.0                         0.0   \n",
       "3                        0.0                         0.0   \n",
       "4                        NaN                         NaN   \n",
       "\n",
       "   amt_req_credit_bureau_mon  amt_req_credit_bureau_qrt  \\\n",
       "0                        0.0                        0.0   \n",
       "1                        0.0                        0.0   \n",
       "2                        0.0                        1.0   \n",
       "3                        0.0                        0.0   \n",
       "4                        NaN                        NaN   \n",
       "\n",
       "   amt_req_credit_bureau_year  \n",
       "0                         0.0  \n",
       "1                         3.0  \n",
       "2                         4.0  \n",
       "3                         3.0  \n",
       "4                         NaN  \n",
       "\n",
       "[5 rows x 121 columns]"
      ]
     },
     "execution_count": 3,
     "metadata": {},
     "output_type": "execute_result"
    }
   ],
   "source": [
    "test_df = pd.read_csv('./data/application_test.csv.zip')\n",
    "test_df = test_df.rename(lambda x: x.lower(), axis=1)\n",
    "test_df.head()"
   ]
  },
  {
   "cell_type": "markdown",
   "metadata": {},
   "source": [
    "### Columns"
   ]
  },
  {
   "cell_type": "code",
   "execution_count": 4,
   "metadata": {},
   "outputs": [],
   "source": [
    "target_column = 'target'\n",
    "\n",
    "id_column = 'sk_id_curr'\n",
    "\n",
    "# numeric columns\n",
    "child_cnt_column = 'cnt_children'\n",
    "amt_columns = ['amt_income_total', 'amt_credit', 'amt_annuity', 'amt_goods_price']\n",
    "reg_pop_column = 'region_population_relative'\n",
    "days_columns = ['days_birth', 'days_employed', 'days_registration', 'days_id_publish']\n",
    "car_age_column = 'own_car_age'\n",
    "\n",
    "# categorical columns\n",
    "contract_column = 'name_contract_type'\n",
    "gender_column = 'code_gender'\n",
    "flag_own_columns = ['flag_own_car', 'flag_own_realty']\n",
    "name_columns = ['name_type_suite', 'name_income_type', 'name_education_type', \n",
    "                'name_family_status', 'name_housing_type']\n",
    "flag_columns = ['flag_mobil', 'flag_emp_phone', 'flag_work_phone', 'flag_cont_mobile',\n",
    "                'flag_phone', 'flag_email']"
   ]
  },
  {
   "cell_type": "code",
   "execution_count": null,
   "metadata": {},
   "outputs": [],
   "source": [
    "num_columns = ['cnt_children', 'amt_income_total', 'amt_credit', 'amt_annuity', 'amt_goods_price',\n",
    "               'region_population_relative', 'days_employed', 'days_registration', 'days_id_publish',\n",
    "               'own_car_age']\n",
    "cat_columns = ['name_contract_type', 'code_gender', 'flag_own_car', 'flag_own_realty', \n",
    "               'name_type_suite', 'name_income_type', 'name_education_type', 'name_family_status', \n",
    "               'name_housing_type', 'flag_mobil', 'flag_emp_phone', 'flag_work_phone', 'flag_cont_mobile',\n",
    "                'flag_phone', 'flag_email']"
   ]
  },
  {
   "cell_type": "code",
   "execution_count": 5,
   "metadata": {},
   "outputs": [
    {
     "data": {
      "text/plain": [
       "((307511, 120), (307511,))"
      ]
     },
     "execution_count": 5,
     "metadata": {},
     "output_type": "execute_result"
    }
   ],
   "source": [
    "X_train = train_df.drop([target_column, id_column], axis=1)\n",
    "y_train = train_df[target_column].copy()\n",
    "X_train.shape, y_train.shape"
   ]
  },
  {
   "cell_type": "code",
   "execution_count": 6,
   "metadata": {},
   "outputs": [
    {
     "data": {
      "text/plain": [
       "24825"
      ]
     },
     "execution_count": 6,
     "metadata": {},
     "output_type": "execute_result"
    }
   ],
   "source": [
    "y_train_count = train_df[target_column].value_counts()[1]\n",
    "y_train_count"
   ]
  },
  {
   "cell_type": "code",
   "execution_count": 7,
   "metadata": {},
   "outputs": [],
   "source": [
    "sample_size = 1000\n",
    "random_state = 42"
   ]
  },
  {
   "cell_type": "markdown",
   "metadata": {},
   "source": [
    "### Pipeline"
   ]
  },
  {
   "cell_type": "code",
   "execution_count": 8,
   "metadata": {},
   "outputs": [],
   "source": [
    "import warnings\n",
    "warnings.filterwarnings(action='default')"
   ]
  },
  {
   "cell_type": "code",
   "execution_count": 19,
   "metadata": {},
   "outputs": [],
   "source": [
    "from scipy.stats import randint as sp_randint\n",
    "\n",
    "from sklearn.base import BaseEstimator, TransformerMixin\n",
    "from sklearn.pipeline import Pipeline, FeatureUnion\n",
    "from sklearn.impute import SimpleImputer\n",
    "from sklearn.preprocessing import StandardScaler, RobustScaler, CategoricalEncoder\n",
    "from sklearn.model_selection import GridSearchCV, RandomizedSearchCV, learning_curve\n",
    "from sklearn.decomposition import PCA, KernelPCA\n",
    "from sklearn.metrics import roc_auc_score\n",
    "\n",
    "from imblearn.under_sampling import RandomUnderSampler\n",
    "import imblearn.pipeline as imbp\n",
    "\n",
    "import xgboost as xgb\n",
    "from xgboost import XGBClassifier"
   ]
  },
  {
   "cell_type": "code",
   "execution_count": 20,
   "metadata": {},
   "outputs": [],
   "source": [
    "class ColumnExtractor(BaseEstimator, TransformerMixin):\n",
    "    def __init__(self, columns):\n",
    "        self.columns = columns\n",
    "    \n",
    "    def fit(self, X, y=None):\n",
    "        return self\n",
    "    \n",
    "    def transform(self, X):\n",
    "        return X[self.columns]"
   ]
  },
  {
   "cell_type": "code",
   "execution_count": 21,
   "metadata": {},
   "outputs": [],
   "source": [
    "class CategoricalImputer(BaseEstimator, TransformerMixin):\n",
    "    def __init__(self, label=None):\n",
    "        self.label = label\n",
    "    \n",
    "    def fit(self, X, y=None):\n",
    "        if self.label:\n",
    "            self.fill_values_ = self.label \n",
    "        else:\n",
    "            self.fill_values_ = X.mode().iloc[0]\n",
    "        return self\n",
    "    \n",
    "    def transform(self, X):\n",
    "        return X.fillna(self.fill_values_).values"
   ]
  },
  {
   "cell_type": "code",
   "execution_count": null,
   "metadata": {},
   "outputs": [],
   "source": []
  },
  {
   "cell_type": "code",
   "execution_count": 22,
   "metadata": {},
   "outputs": [
    {
     "data": {
      "text/plain": [
       "['cnt_children',\n",
       " 'amt_income_total',\n",
       " 'amt_credit',\n",
       " 'amt_annuity',\n",
       " 'amt_goods_price',\n",
       " 'region_population_relative',\n",
       " 'days_birth',\n",
       " 'days_employed',\n",
       " 'days_registration',\n",
       " 'days_id_publish',\n",
       " 'own_car_age']"
      ]
     },
     "execution_count": 22,
     "metadata": {},
     "output_type": "execute_result"
    }
   ],
   "source": [
    "num_columns = [child_cnt_column] + amt_columns + [reg_pop_column] + days_columns + [car_age_column]\n",
    "num_columns"
   ]
  },
  {
   "cell_type": "code",
   "execution_count": 23,
   "metadata": {},
   "outputs": [
    {
     "data": {
      "text/plain": [
       "['name_contract_type',\n",
       " 'code_gender',\n",
       " 'flag_own_car',\n",
       " 'flag_own_realty',\n",
       " 'name_type_suite',\n",
       " 'name_income_type',\n",
       " 'name_education_type',\n",
       " 'name_family_status',\n",
       " 'name_housing_type',\n",
       " 'flag_mobil',\n",
       " 'flag_emp_phone',\n",
       " 'flag_work_phone',\n",
       " 'flag_cont_mobile',\n",
       " 'flag_phone',\n",
       " 'flag_email']"
      ]
     },
     "execution_count": 23,
     "metadata": {},
     "output_type": "execute_result"
    }
   ],
   "source": [
    "cat_columns = [contract_column] + [gender_column] + flag_own_columns + name_columns + flag_columns\n",
    "cat_columns"
   ]
  },
  {
   "cell_type": "code",
   "execution_count": 156,
   "metadata": {},
   "outputs": [],
   "source": [
    "sample_sizes = {0: y_train_count, 1: y_train_count}\n",
    "pipeline = imbp.Pipeline([\n",
    "    ('features', FeatureUnion([\n",
    "        ('numeric', Pipeline([\n",
    "            ('extract', ColumnExtractor(columns=num_columns)),\n",
    "            ('impute', SimpleImputer(strategy='mean')),\n",
    "            ('normalize', StandardScaler()),\n",
    "        ])),\n",
    "        ('categorical', Pipeline([\n",
    "            ('extract', ColumnExtractor(columns=cat_columns)),\n",
    "            ('impute', CategoricalImputer()),\n",
    "            ('encoding', CategoricalEncoder('onehot-dense', handle_unknown='ignore'))\n",
    "        ]))\n",
    "    ])),\n",
    "    #('pca', PCA(n_components=0.99)),\n",
    "    #('sampling', RandomUnderSampler(ratio=sample_sizes, random_state=random_state))\n",
    "])"
   ]
  },
  {
   "cell_type": "code",
   "execution_count": 193,
   "metadata": {},
   "outputs": [
    {
     "data": {
      "text/plain": [
       "((307511, 64), (307511,))"
      ]
     },
     "execution_count": 193,
     "metadata": {},
     "output_type": "execute_result"
    }
   ],
   "source": [
    "X_train_trans = pipeline.fit_transform(X_train, y_train)\n",
    "y_train_trans = y_train.values\n",
    "X_train_trans.shape, y_train_trans.shape"
   ]
  },
  {
   "cell_type": "code",
   "execution_count": 194,
   "metadata": {},
   "outputs": [
    {
     "data": {
      "text/plain": [
       "((49650, 64), (49650,))"
      ]
     },
     "execution_count": 194,
     "metadata": {},
     "output_type": "execute_result"
    }
   ],
   "source": [
    "rs = RandomUnderSampler(ratio=sample_sizes, random_state=random_state)\n",
    "X_train_trans, y_train_trans = rs.fit_sample(X_train_trans, y_train_trans)\n",
    "X_train_trans.shape, y_train_trans.shape"
   ]
  },
  {
   "cell_type": "code",
   "execution_count": 195,
   "metadata": {},
   "outputs": [
    {
     "data": {
      "text/plain": [
       "(48744, 64)"
      ]
     },
     "execution_count": 195,
     "metadata": {},
     "output_type": "execute_result"
    }
   ],
   "source": [
    "X_test_trans = pipeline.transform(test_df)\n",
    "X_test_trans.shape"
   ]
  },
  {
   "cell_type": "code",
   "execution_count": null,
   "metadata": {},
   "outputs": [],
   "source": []
  },
  {
   "cell_type": "code",
   "execution_count": 196,
   "metadata": {},
   "outputs": [],
   "source": [
    "def xbg_fit(model, X_train, y_train, useTrainCV=True, cv_folds=5, early_stopping_rounds=10, verbose=False):\n",
    "    \n",
    "    if useTrainCV:\n",
    "        xgb_param = model.get_xgb_params()\n",
    "        xgb_train = xgb.DMatrix(X_train, y_train)\n",
    "\n",
    "        cv_results = xgb.cv(xgb_param, xgb_train, num_boost_round=model.get_params()['n_estimators'],\n",
    "                            stratified=False, nfold=cv_folds, metrics='auc', \n",
    "                            early_stopping_rounds=early_stopping_rounds,\n",
    "                            verbose_eval=verbose)\n",
    "        \n",
    "        print('# estimators: {}'.format(cv_results.shape[0]))\n",
    "        print('Last iteration scores: \\n{}'.format(cv_results.iloc[-1, :]))\n",
    "        \n",
    "        model.set_params(n_estimators=cv_results.shape[0])\n",
    "        model.fit(X_train, y_train, eval_metric='auc')   "
   ]
  },
  {
   "cell_type": "code",
   "execution_count": 181,
   "metadata": {
    "scrolled": false
   },
   "outputs": [
    {
     "name": "stdout",
     "output_type": "stream",
     "text": [
      "# estimators: 136\n",
      "Last iteration scores:\n",
      "test-auc-mean     0.684864\n",
      "test-auc-std      0.005248\n",
      "train-auc-mean    0.755746\n",
      "train-auc-std     0.001749\n",
      "Name: 135, dtype: float64\n"
     ]
    }
   ],
   "source": [
    "xgb_model_1 = XGBClassifier(learning_rate=0.1, n_estimators=1000, max_depth=5,\n",
    "                            min_child_weight=1, gamma=0, subsample=0.8, colsample_bytree=0.8,\n",
    "                            objective='binary:logistic', scale_pos_weight=1,\n",
    "                            random_state=random_state, n_jobs=-1)\n",
    "xbg_fit(xgb_model_1, X_train_trans, y_train_trans, verbose=False)"
   ]
  },
  {
   "cell_type": "code",
   "execution_count": 183,
   "metadata": {},
   "outputs": [
    {
     "name": "stderr",
     "output_type": "stream",
     "text": [
      "/home/dlabazkin/miniconda3/envs/otus/lib/python3.6/site-packages/sklearn/model_selection/_search.py:792: DeprecationWarning: The grid_scores_ attribute was deprecated in version 0.18 in favor of the more elaborate cv_results_ attribute. The grid_scores_ attribute will not be available from 0.20\n",
      "  DeprecationWarning)\n"
     ]
    },
    {
     "data": {
      "text/plain": [
       "([mean: 0.68183, std: 0.00413, params: {'max_depth': 3, 'min_child_weight': 1},\n",
       "  mean: 0.68191, std: 0.00386, params: {'max_depth': 3, 'min_child_weight': 3},\n",
       "  mean: 0.68197, std: 0.00367, params: {'max_depth': 3, 'min_child_weight': 5},\n",
       "  mean: 0.68470, std: 0.00430, params: {'max_depth': 5, 'min_child_weight': 1},\n",
       "  mean: 0.68498, std: 0.00447, params: {'max_depth': 5, 'min_child_weight': 3},\n",
       "  mean: 0.68456, std: 0.00485, params: {'max_depth': 5, 'min_child_weight': 5},\n",
       "  mean: 0.68130, std: 0.00427, params: {'max_depth': 7, 'min_child_weight': 1},\n",
       "  mean: 0.68088, std: 0.00496, params: {'max_depth': 7, 'min_child_weight': 3},\n",
       "  mean: 0.68015, std: 0.00499, params: {'max_depth': 7, 'min_child_weight': 5},\n",
       "  mean: 0.67479, std: 0.00552, params: {'max_depth': 9, 'min_child_weight': 1},\n",
       "  mean: 0.67487, std: 0.00476, params: {'max_depth': 9, 'min_child_weight': 3},\n",
       "  mean: 0.67547, std: 0.00390, params: {'max_depth': 9, 'min_child_weight': 5}],\n",
       " {'max_depth': 5, 'min_child_weight': 3},\n",
       " 0.68497613810267044)"
      ]
     },
     "execution_count": 183,
     "metadata": {},
     "output_type": "execute_result"
    }
   ],
   "source": [
    "param_grid = {\n",
    "    'max_depth': range(3,10,2),\n",
    "    'min_child_weight': range(1,6,2)\n",
    "}\n",
    "grid_search_1 = GridSearchCV(estimator = XGBClassifier(learning_rate=0.1, n_estimators=136, max_depth=5,\n",
    "                        min_child_weight=1, gamma=0, subsample=0.8, colsample_bytree=0.8,\n",
    "                        objective='binary:logistic', n_jobs=-1, scale_pos_weight=1, random_state=random_state), \n",
    "                        param_grid=param_grid, scoring='roc_auc', n_jobs=-1, cv=5)\n",
    "grid_search_1.fit(X_train_trans, y_train_trans)\n",
    "grid_search_1.grid_scores_, grid_search_1.best_params_, grid_search_1.best_score_"
   ]
  },
  {
   "cell_type": "code",
   "execution_count": 184,
   "metadata": {},
   "outputs": [
    {
     "name": "stderr",
     "output_type": "stream",
     "text": [
      "/home/dlabazkin/miniconda3/envs/otus/lib/python3.6/site-packages/sklearn/model_selection/_search.py:792: DeprecationWarning: The grid_scores_ attribute was deprecated in version 0.18 in favor of the more elaborate cv_results_ attribute. The grid_scores_ attribute will not be available from 0.20\n",
      "  DeprecationWarning)\n"
     ]
    },
    {
     "data": {
      "text/plain": [
       "([mean: 0.68437, std: 0.00417, params: {'max_depth': 4, 'min_child_weight': 2},\n",
       "  mean: 0.68485, std: 0.00405, params: {'max_depth': 4, 'min_child_weight': 3},\n",
       "  mean: 0.68487, std: 0.00449, params: {'max_depth': 4, 'min_child_weight': 4},\n",
       "  mean: 0.68491, std: 0.00499, params: {'max_depth': 5, 'min_child_weight': 2},\n",
       "  mean: 0.68498, std: 0.00447, params: {'max_depth': 5, 'min_child_weight': 3},\n",
       "  mean: 0.68505, std: 0.00459, params: {'max_depth': 5, 'min_child_weight': 4},\n",
       "  mean: 0.68284, std: 0.00543, params: {'max_depth': 6, 'min_child_weight': 2},\n",
       "  mean: 0.68258, std: 0.00367, params: {'max_depth': 6, 'min_child_weight': 3},\n",
       "  mean: 0.68236, std: 0.00501, params: {'max_depth': 6, 'min_child_weight': 4}],\n",
       " {'max_depth': 5, 'min_child_weight': 4},\n",
       " 0.68505405715131806)"
      ]
     },
     "execution_count": 184,
     "metadata": {},
     "output_type": "execute_result"
    }
   ],
   "source": [
    "param_grid = {\n",
    "    'max_depth': [4, 5, 6],\n",
    "    'min_child_weight': [2, 3, 4]\n",
    "}\n",
    "grid_search_2 = GridSearchCV(estimator = XGBClassifier(learning_rate=0.1, n_estimators=136, max_depth=5,\n",
    "                        min_child_weight=1, gamma=0, subsample=0.8, colsample_bytree=0.8,\n",
    "                        objective='binary:logistic', n_jobs=-1, scale_pos_weight=1, random_state=random_state), \n",
    "                        param_grid=param_grid, scoring='roc_auc', n_jobs=-1, cv=5)\n",
    "grid_search_2.fit(X_train_trans, y_train_trans)\n",
    "grid_search_2.grid_scores_, grid_search_2.best_params_, grid_search_2.best_score_"
   ]
  },
  {
   "cell_type": "code",
   "execution_count": 185,
   "metadata": {},
   "outputs": [
    {
     "name": "stderr",
     "output_type": "stream",
     "text": [
      "/home/dlabazkin/miniconda3/envs/otus/lib/python3.6/site-packages/sklearn/model_selection/_search.py:792: DeprecationWarning: The grid_scores_ attribute was deprecated in version 0.18 in favor of the more elaborate cv_results_ attribute. The grid_scores_ attribute will not be available from 0.20\n",
      "  DeprecationWarning)\n"
     ]
    },
    {
     "data": {
      "text/plain": [
       "([mean: 0.68505, std: 0.00459, params: {'gamma': 0.0},\n",
       "  mean: 0.68511, std: 0.00423, params: {'gamma': 0.10000000000000001},\n",
       "  mean: 0.68486, std: 0.00462, params: {'gamma': 0.20000000000000001},\n",
       "  mean: 0.68414, std: 0.00480, params: {'gamma': 0.30000000000000004},\n",
       "  mean: 0.68411, std: 0.00461, params: {'gamma': 0.40000000000000002}],\n",
       " {'gamma': 0.10000000000000001},\n",
       " 0.6851091578613232)"
      ]
     },
     "execution_count": 185,
     "metadata": {},
     "output_type": "execute_result"
    }
   ],
   "source": [
    "param_grid = {\n",
    "    'gamma': np.linspace(0, 0.4, 5)\n",
    "}\n",
    "grid_search_3 = GridSearchCV(estimator = XGBClassifier(learning_rate=0.1, n_estimators=136, max_depth=5,\n",
    "                        min_child_weight=4, gamma=0, subsample=0.8, colsample_bytree=0.8,\n",
    "                        objective='binary:logistic', n_jobs=-1, scale_pos_weight=1, random_state=random_state), \n",
    "                        param_grid=param_grid, scoring='roc_auc', n_jobs=-1, cv=5)\n",
    "grid_search_3.fit(X_train_trans, y_train_trans)\n",
    "grid_search_3.grid_scores_, grid_search_3.best_params_, grid_search_3.best_score_"
   ]
  },
  {
   "cell_type": "code",
   "execution_count": 187,
   "metadata": {},
   "outputs": [
    {
     "name": "stderr",
     "output_type": "stream",
     "text": [
      "/home/dlabazkin/miniconda3/envs/otus/lib/python3.6/site-packages/sklearn/model_selection/_search.py:792: DeprecationWarning: The grid_scores_ attribute was deprecated in version 0.18 in favor of the more elaborate cv_results_ attribute. The grid_scores_ attribute will not be available from 0.20\n",
      "  DeprecationWarning)\n"
     ]
    },
    {
     "data": {
      "text/plain": [
       "([mean: 0.68192, std: 0.00481, params: {'colsample_bytree': 0.59999999999999998, 'subsample': 0.59999999999999998},\n",
       "  mean: 0.68380, std: 0.00417, params: {'colsample_bytree': 0.59999999999999998, 'subsample': 0.69999999999999996},\n",
       "  mean: 0.68528, std: 0.00484, params: {'colsample_bytree': 0.59999999999999998, 'subsample': 0.80000000000000004},\n",
       "  mean: 0.68490, std: 0.00375, params: {'colsample_bytree': 0.59999999999999998, 'subsample': 0.90000000000000002},\n",
       "  mean: 0.68400, std: 0.00357, params: {'colsample_bytree': 0.69999999999999996, 'subsample': 0.59999999999999998},\n",
       "  mean: 0.68408, std: 0.00559, params: {'colsample_bytree': 0.69999999999999996, 'subsample': 0.69999999999999996},\n",
       "  mean: 0.68407, std: 0.00425, params: {'colsample_bytree': 0.69999999999999996, 'subsample': 0.80000000000000004},\n",
       "  mean: 0.68563, std: 0.00348, params: {'colsample_bytree': 0.69999999999999996, 'subsample': 0.90000000000000002},\n",
       "  mean: 0.68369, std: 0.00469, params: {'colsample_bytree': 0.80000000000000004, 'subsample': 0.59999999999999998},\n",
       "  mean: 0.68375, std: 0.00413, params: {'colsample_bytree': 0.80000000000000004, 'subsample': 0.69999999999999996},\n",
       "  mean: 0.68511, std: 0.00423, params: {'colsample_bytree': 0.80000000000000004, 'subsample': 0.80000000000000004},\n",
       "  mean: 0.68507, std: 0.00363, params: {'colsample_bytree': 0.80000000000000004, 'subsample': 0.90000000000000002},\n",
       "  mean: 0.68460, std: 0.00437, params: {'colsample_bytree': 0.90000000000000002, 'subsample': 0.59999999999999998},\n",
       "  mean: 0.68478, std: 0.00366, params: {'colsample_bytree': 0.90000000000000002, 'subsample': 0.69999999999999996},\n",
       "  mean: 0.68537, std: 0.00437, params: {'colsample_bytree': 0.90000000000000002, 'subsample': 0.80000000000000004},\n",
       "  mean: 0.68606, std: 0.00354, params: {'colsample_bytree': 0.90000000000000002, 'subsample': 0.90000000000000002}],\n",
       " {'colsample_bytree': 0.90000000000000002, 'subsample': 0.90000000000000002},\n",
       " 0.68605946763294723)"
      ]
     },
     "execution_count": 187,
     "metadata": {},
     "output_type": "execute_result"
    }
   ],
   "source": [
    "param_grid = {\n",
    "    'subsample': np.linspace(0.6, 0.9, 4),\n",
    "    'colsample_bytree': np.linspace(0.6, 0.9, 4) \n",
    "}\n",
    "grid_search_4 = GridSearchCV(estimator = XGBClassifier(learning_rate=0.1, n_estimators=136, max_depth=5,\n",
    "                        min_child_weight=4, gamma=0.1, subsample=0.8, colsample_bytree=0.8,\n",
    "                        objective='binary:logistic', n_jobs=-1, scale_pos_weight=1, random_state=random_state), \n",
    "                        param_grid=param_grid, scoring='roc_auc', n_jobs=-1, cv=5)\n",
    "grid_search_4.fit(X_train_trans, y_train_trans)\n",
    "grid_search_4.grid_scores_, grid_search_4.best_params_, grid_search_4.best_score_"
   ]
  },
  {
   "cell_type": "code",
   "execution_count": 188,
   "metadata": {},
   "outputs": [
    {
     "name": "stderr",
     "output_type": "stream",
     "text": [
      "/home/dlabazkin/miniconda3/envs/otus/lib/python3.6/site-packages/sklearn/model_selection/_search.py:792: DeprecationWarning: The grid_scores_ attribute was deprecated in version 0.18 in favor of the more elaborate cv_results_ attribute. The grid_scores_ attribute will not be available from 0.20\n",
      "  DeprecationWarning)\n"
     ]
    },
    {
     "data": {
      "text/plain": [
       "([mean: 0.68606, std: 0.00354, params: {'reg_alpha': 1.0000000000000001e-05},\n",
       "  mean: 0.68606, std: 0.00354, params: {'reg_alpha': 0.0001},\n",
       "  mean: 0.68574, std: 0.00344, params: {'reg_alpha': 0.001},\n",
       "  mean: 0.68584, std: 0.00345, params: {'reg_alpha': 0.01},\n",
       "  mean: 0.68545, std: 0.00423, params: {'reg_alpha': 0.10000000000000001},\n",
       "  mean: 0.68533, std: 0.00490, params: {'reg_alpha': 1.0},\n",
       "  mean: 0.68594, std: 0.00564, params: {'reg_alpha': 10.0},\n",
       "  mean: 0.67701, std: 0.00432, params: {'reg_alpha': 100.0}],\n",
       " {'reg_alpha': 1.0000000000000001e-05},\n",
       " 0.68605948791591487)"
      ]
     },
     "execution_count": 188,
     "metadata": {},
     "output_type": "execute_result"
    }
   ],
   "source": [
    "param_grid = {\n",
    "    'reg_alpha': np.logspace(-5, 2, 8),\n",
    "}\n",
    "grid_search_5 = GridSearchCV(estimator = XGBClassifier(learning_rate=0.1, n_estimators=136, max_depth=5,\n",
    "                        min_child_weight=4, gamma=0.1, subsample=0.9, colsample_bytree=0.9,\n",
    "                        objective='binary:logistic', n_jobs=-1, scale_pos_weight=1, random_state=random_state), \n",
    "                        param_grid=param_grid, scoring='roc_auc', n_jobs=-1, cv=5)\n",
    "grid_search_5.fit(X_train_trans, y_train_trans)\n",
    "grid_search_5.grid_scores_, grid_search_5.best_params_, grid_search_5.best_score_"
   ]
  },
  {
   "cell_type": "code",
   "execution_count": 189,
   "metadata": {},
   "outputs": [
    {
     "name": "stderr",
     "output_type": "stream",
     "text": [
      "/home/dlabazkin/miniconda3/envs/otus/lib/python3.6/site-packages/sklearn/model_selection/_search.py:792: DeprecationWarning: The grid_scores_ attribute was deprecated in version 0.18 in favor of the more elaborate cv_results_ attribute. The grid_scores_ attribute will not be available from 0.20\n",
      "  DeprecationWarning)\n"
     ]
    },
    {
     "data": {
      "text/plain": [
       "([mean: 0.68520, std: 0.00371, params: {'reg_alpha': 0.5},\n",
       "  mean: 0.68578, std: 0.00416, params: {'reg_alpha': 0.75},\n",
       "  mean: 0.68533, std: 0.00490, params: {'reg_alpha': 1.0},\n",
       "  mean: 0.68612, std: 0.00411, params: {'reg_alpha': 1.25},\n",
       "  mean: 0.68560, std: 0.00468, params: {'reg_alpha': 1.5}],\n",
       " {'reg_alpha': 1.25},\n",
       " 0.68612221096517501)"
      ]
     },
     "execution_count": 189,
     "metadata": {},
     "output_type": "execute_result"
    }
   ],
   "source": [
    "param_grid = {\n",
    "    'reg_alpha': np.linspace(0.5, 1.5, 5),\n",
    "}\n",
    "grid_search_6 = GridSearchCV(estimator = XGBClassifier(learning_rate=0.1, n_estimators=136, max_depth=5,\n",
    "                        min_child_weight=4, gamma=0.1, subsample=0.9, colsample_bytree=0.9,\n",
    "                        objective='binary:logistic', n_jobs=-1, scale_pos_weight=1, random_state=random_state), \n",
    "                        param_grid=param_grid, scoring='roc_auc', n_jobs=-1, cv=5)\n",
    "grid_search_6.fit(X_train_trans, y_train_trans)\n",
    "grid_search_6.grid_scores_, grid_search_6.best_params_, grid_search_6.best_score_"
   ]
  },
  {
   "cell_type": "code",
   "execution_count": 197,
   "metadata": {},
   "outputs": [
    {
     "name": "stdout",
     "output_type": "stream",
     "text": [
      "# estimators: 162\n",
      "Last iteration scores: \n",
      "test-auc-mean     0.686932\n",
      "test-auc-std      0.005408\n",
      "train-auc-mean    0.762183\n",
      "train-auc-std     0.001474\n",
      "Name: 161, dtype: float64\n"
     ]
    }
   ],
   "source": [
    "xgb_model_2 = XGBClassifier(learning_rate=0.1, n_estimators=1000, max_depth=5,\n",
    "                            min_child_weight=4, gamma=0.1, subsample=0.9, colsample_bytree=0.9,\n",
    "                            objective='binary:logistic', scale_pos_weight=1, reg_alpha=1.25,\n",
    "                            random_state=random_state, n_jobs=-1)\n",
    "xbg_fit(xgb_model_2, X_train_trans, y_train_trans, verbose=False)"
   ]
  },
  {
   "cell_type": "code",
   "execution_count": null,
   "metadata": {},
   "outputs": [],
   "source": []
  },
  {
   "cell_type": "markdown",
   "metadata": {},
   "source": [
    "### Predict on testing dataset by best model"
   ]
  },
  {
   "cell_type": "code",
   "execution_count": 39,
   "metadata": {},
   "outputs": [
    {
     "data": {
      "text/plain": [
       "(48744, 121)"
      ]
     },
     "execution_count": 39,
     "metadata": {},
     "output_type": "execute_result"
    }
   ],
   "source": [
    "test_df.shape"
   ]
  },
  {
   "cell_type": "code",
   "execution_count": 40,
   "metadata": {},
   "outputs": [
    {
     "name": "stdout",
     "output_type": "stream",
     "text": [
      "<class 'pandas.core.frame.DataFrame'>\n",
      "RangeIndex: 48744 entries, 0 to 48743\n",
      "Data columns (total 121 columns):\n",
      "sk_id_curr                      int64\n",
      "name_contract_type              object\n",
      "code_gender                     object\n",
      "flag_own_car                    object\n",
      "flag_own_realty                 object\n",
      "cnt_children                    int64\n",
      "amt_income_total                float64\n",
      "amt_credit                      float64\n",
      "amt_annuity                     float64\n",
      "amt_goods_price                 float64\n",
      "name_type_suite                 object\n",
      "name_income_type                object\n",
      "name_education_type             object\n",
      "name_family_status              object\n",
      "name_housing_type               object\n",
      "region_population_relative      float64\n",
      "days_birth                      int64\n",
      "days_employed                   int64\n",
      "days_registration               float64\n",
      "days_id_publish                 int64\n",
      "own_car_age                     float64\n",
      "flag_mobil                      int64\n",
      "flag_emp_phone                  int64\n",
      "flag_work_phone                 int64\n",
      "flag_cont_mobile                int64\n",
      "flag_phone                      int64\n",
      "flag_email                      int64\n",
      "occupation_type                 object\n",
      "cnt_fam_members                 float64\n",
      "region_rating_client            int64\n",
      "region_rating_client_w_city     int64\n",
      "weekday_appr_process_start      object\n",
      "hour_appr_process_start         int64\n",
      "reg_region_not_live_region      int64\n",
      "reg_region_not_work_region      int64\n",
      "live_region_not_work_region     int64\n",
      "reg_city_not_live_city          int64\n",
      "reg_city_not_work_city          int64\n",
      "live_city_not_work_city         int64\n",
      "organization_type               object\n",
      "ext_source_1                    float64\n",
      "ext_source_2                    float64\n",
      "ext_source_3                    float64\n",
      "apartments_avg                  float64\n",
      "basementarea_avg                float64\n",
      "years_beginexpluatation_avg     float64\n",
      "years_build_avg                 float64\n",
      "commonarea_avg                  float64\n",
      "elevators_avg                   float64\n",
      "entrances_avg                   float64\n",
      "floorsmax_avg                   float64\n",
      "floorsmin_avg                   float64\n",
      "landarea_avg                    float64\n",
      "livingapartments_avg            float64\n",
      "livingarea_avg                  float64\n",
      "nonlivingapartments_avg         float64\n",
      "nonlivingarea_avg               float64\n",
      "apartments_mode                 float64\n",
      "basementarea_mode               float64\n",
      "years_beginexpluatation_mode    float64\n",
      "years_build_mode                float64\n",
      "commonarea_mode                 float64\n",
      "elevators_mode                  float64\n",
      "entrances_mode                  float64\n",
      "floorsmax_mode                  float64\n",
      "floorsmin_mode                  float64\n",
      "landarea_mode                   float64\n",
      "livingapartments_mode           float64\n",
      "livingarea_mode                 float64\n",
      "nonlivingapartments_mode        float64\n",
      "nonlivingarea_mode              float64\n",
      "apartments_medi                 float64\n",
      "basementarea_medi               float64\n",
      "years_beginexpluatation_medi    float64\n",
      "years_build_medi                float64\n",
      "commonarea_medi                 float64\n",
      "elevators_medi                  float64\n",
      "entrances_medi                  float64\n",
      "floorsmax_medi                  float64\n",
      "floorsmin_medi                  float64\n",
      "landarea_medi                   float64\n",
      "livingapartments_medi           float64\n",
      "livingarea_medi                 float64\n",
      "nonlivingapartments_medi        float64\n",
      "nonlivingarea_medi              float64\n",
      "fondkapremont_mode              object\n",
      "housetype_mode                  object\n",
      "totalarea_mode                  float64\n",
      "wallsmaterial_mode              object\n",
      "emergencystate_mode             object\n",
      "obs_30_cnt_social_circle        float64\n",
      "def_30_cnt_social_circle        float64\n",
      "obs_60_cnt_social_circle        float64\n",
      "def_60_cnt_social_circle        float64\n",
      "days_last_phone_change          float64\n",
      "flag_document_2                 int64\n",
      "flag_document_3                 int64\n",
      "flag_document_4                 int64\n",
      "flag_document_5                 int64\n",
      "flag_document_6                 int64\n",
      "flag_document_7                 int64\n",
      "flag_document_8                 int64\n",
      "flag_document_9                 int64\n",
      "flag_document_10                int64\n",
      "flag_document_11                int64\n",
      "flag_document_12                int64\n",
      "flag_document_13                int64\n",
      "flag_document_14                int64\n",
      "flag_document_15                int64\n",
      "flag_document_16                int64\n",
      "flag_document_17                int64\n",
      "flag_document_18                int64\n",
      "flag_document_19                int64\n",
      "flag_document_20                int64\n",
      "flag_document_21                int64\n",
      "amt_req_credit_bureau_hour      float64\n",
      "amt_req_credit_bureau_day       float64\n",
      "amt_req_credit_bureau_week      float64\n",
      "amt_req_credit_bureau_mon       float64\n",
      "amt_req_credit_bureau_qrt       float64\n",
      "amt_req_credit_bureau_year      float64\n",
      "dtypes: float64(65), int64(40), object(16)\n",
      "memory usage: 45.0+ MB\n"
     ]
    }
   ],
   "source": [
    "test_df.info(verbose=True)"
   ]
  },
  {
   "cell_type": "code",
   "execution_count": 198,
   "metadata": {},
   "outputs": [
    {
     "data": {
      "text/plain": [
       "(48744, 2)"
      ]
     },
     "execution_count": 198,
     "metadata": {},
     "output_type": "execute_result"
    }
   ],
   "source": [
    "y_pred = xgb_model_2.predict_proba(X_test)\n",
    "y_pred.shape"
   ]
  },
  {
   "cell_type": "code",
   "execution_count": 199,
   "metadata": {},
   "outputs": [
    {
     "data": {
      "text/plain": [
       "array([ 0.55576771,  0.4859249 ,  0.31613174,  0.36880374,  0.62004709,\n",
       "        0.28780553,  0.43782464,  0.50248498,  0.35639647,  0.19418734], dtype=float32)"
      ]
     },
     "execution_count": 199,
     "metadata": {},
     "output_type": "execute_result"
    }
   ],
   "source": [
    "y_pred[:10, 1]"
   ]
  },
  {
   "cell_type": "markdown",
   "metadata": {},
   "source": [
    "### Save predictions to file"
   ]
  },
  {
   "cell_type": "code",
   "execution_count": 200,
   "metadata": {},
   "outputs": [],
   "source": [
    "submission_file = './submissions/submission.csv'"
   ]
  },
  {
   "cell_type": "code",
   "execution_count": 201,
   "metadata": {},
   "outputs": [
    {
     "data": {
      "text/html": [
       "<div>\n",
       "<style scoped>\n",
       "    .dataframe tbody tr th:only-of-type {\n",
       "        vertical-align: middle;\n",
       "    }\n",
       "\n",
       "    .dataframe tbody tr th {\n",
       "        vertical-align: top;\n",
       "    }\n",
       "\n",
       "    .dataframe thead th {\n",
       "        text-align: right;\n",
       "    }\n",
       "</style>\n",
       "<table border=\"1\" class=\"dataframe\">\n",
       "  <thead>\n",
       "    <tr style=\"text-align: right;\">\n",
       "      <th></th>\n",
       "      <th>SK_ID_CURR</th>\n",
       "      <th>TARGET</th>\n",
       "    </tr>\n",
       "  </thead>\n",
       "  <tbody>\n",
       "    <tr>\n",
       "      <th>0</th>\n",
       "      <td>100001</td>\n",
       "      <td>0.555768</td>\n",
       "    </tr>\n",
       "    <tr>\n",
       "      <th>1</th>\n",
       "      <td>100005</td>\n",
       "      <td>0.485925</td>\n",
       "    </tr>\n",
       "    <tr>\n",
       "      <th>2</th>\n",
       "      <td>100013</td>\n",
       "      <td>0.316132</td>\n",
       "    </tr>\n",
       "    <tr>\n",
       "      <th>3</th>\n",
       "      <td>100028</td>\n",
       "      <td>0.368804</td>\n",
       "    </tr>\n",
       "    <tr>\n",
       "      <th>4</th>\n",
       "      <td>100038</td>\n",
       "      <td>0.620047</td>\n",
       "    </tr>\n",
       "  </tbody>\n",
       "</table>\n",
       "</div>"
      ],
      "text/plain": [
       "   SK_ID_CURR    TARGET\n",
       "0      100001  0.555768\n",
       "1      100005  0.485925\n",
       "2      100013  0.316132\n",
       "3      100028  0.368804\n",
       "4      100038  0.620047"
      ]
     },
     "execution_count": 201,
     "metadata": {},
     "output_type": "execute_result"
    }
   ],
   "source": [
    "result_df = DataFrame({'SK_ID_CURR': test_df['sk_id_curr'],\n",
    "                       'TARGET': y_pred[:, 1]})\n",
    "result_df.head()"
   ]
  },
  {
   "cell_type": "code",
   "execution_count": 202,
   "metadata": {},
   "outputs": [
    {
     "name": "stdout",
     "output_type": "stream",
     "text": [
      "SK_ID_CURR,TARGET\r\n",
      "100001,0.5557677149772644\r\n",
      "100005,0.4859248995780945\r\n",
      "100013,0.31613174080848694\r\n",
      "100028,0.3688037395477295\r\n",
      "100038,0.6200470924377441\r\n",
      "100042,0.2878055274486542\r\n",
      "100057,0.43782463669776917\r\n",
      "100065,0.5024849772453308\r\n",
      "100066,0.35639646649360657\r\n"
     ]
    }
   ],
   "source": [
    "result_df.to_csv(submission_file, index=False)\n",
    "!head {submission_file}"
   ]
  },
  {
   "cell_type": "markdown",
   "metadata": {},
   "source": [
    "### Submit to Kaggle"
   ]
  },
  {
   "cell_type": "code",
   "execution_count": 203,
   "metadata": {},
   "outputs": [
    {
     "name": "stdout",
     "output_type": "stream",
     "text": [
      "Successfully submitted to Home Credit Default Risk"
     ]
    }
   ],
   "source": [
    "!kaggle competitions submit -c home-credit-default-risk -f {submission_file} -m \" \""
   ]
  },
  {
   "cell_type": "code",
   "execution_count": 204,
   "metadata": {},
   "outputs": [
    {
     "name": "stdout",
     "output_type": "stream",
     "text": [
      "fileName        date                 description  status    publicScore  privateScore  \r\n",
      "--------------  -------------------  -----------  --------  -----------  ------------  \r\n",
      "submission.csv  2018-06-03 16:26:59               complete  0.690        None          \r\n",
      "submission.csv  2018-06-03 14:27:03               complete  0.684        None          \r\n",
      "submission.csv  2018-06-03 12:31:14               complete  0.638        None          \r\n",
      "submission.csv  2018-06-02 22:57:59               complete  0.650        None          \r\n",
      "submission.csv  2018-06-02 10:05:31               complete  0.690        None          \r\n",
      "submission.csv  2018-06-01 14:10:18               complete  0.673        None          \r\n",
      "submission.csv  2018-06-01 13:44:23               complete  0.648        None          \r\n",
      "submission.csv  2018-05-31 12:17:41               complete  0.663        None          \r\n",
      "submission.csv  2018-05-31 09:39:38  Baseline     complete  0.639        None          \r\n",
      "submission.csv  2018-05-31 09:38:44  Baseline     error     None         None          \r\n"
     ]
    }
   ],
   "source": [
    "!kaggle competitions submissions -c home-credit-default-risk"
   ]
  },
  {
   "cell_type": "code",
   "execution_count": null,
   "metadata": {},
   "outputs": [],
   "source": []
  },
  {
   "cell_type": "code",
   "execution_count": null,
   "metadata": {},
   "outputs": [],
   "source": []
  },
  {
   "cell_type": "code",
   "execution_count": null,
   "metadata": {},
   "outputs": [],
   "source": []
  },
  {
   "cell_type": "code",
   "execution_count": null,
   "metadata": {},
   "outputs": [],
   "source": []
  },
  {
   "cell_type": "code",
   "execution_count": null,
   "metadata": {},
   "outputs": [],
   "source": []
  }
 ],
 "metadata": {
  "kernelspec": {
   "display_name": "Python 3",
   "language": "python",
   "name": "python3"
  },
  "language_info": {
   "codemirror_mode": {
    "name": "ipython",
    "version": 3
   },
   "file_extension": ".py",
   "mimetype": "text/x-python",
   "name": "python",
   "nbconvert_exporter": "python",
   "pygments_lexer": "ipython3",
   "version": "3.6.5"
  }
 },
 "nbformat": 4,
 "nbformat_minor": 2
}
