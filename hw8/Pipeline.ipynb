{
 "cells": [
  {
   "cell_type": "code",
   "execution_count": 1,
   "metadata": {},
   "outputs": [],
   "source": [
    "import numpy as np\n",
    "import pandas as pd\n",
    "from pandas import Series, DataFrame\n",
    "import matplotlib.pyplot as plt\n",
    "import seaborn as sns\n",
    "\n",
    "%matplotlib inline\n",
    "plt.rcParams['figure.figsize'] = (10, 8)"
   ]
  },
  {
   "cell_type": "code",
   "execution_count": 2,
   "metadata": {},
   "outputs": [
    {
     "data": {
      "text/html": [
       "<div>\n",
       "<style scoped>\n",
       "    .dataframe tbody tr th:only-of-type {\n",
       "        vertical-align: middle;\n",
       "    }\n",
       "\n",
       "    .dataframe tbody tr th {\n",
       "        vertical-align: top;\n",
       "    }\n",
       "\n",
       "    .dataframe thead th {\n",
       "        text-align: right;\n",
       "    }\n",
       "</style>\n",
       "<table border=\"1\" class=\"dataframe\">\n",
       "  <thead>\n",
       "    <tr style=\"text-align: right;\">\n",
       "      <th></th>\n",
       "      <th>sk_id_curr</th>\n",
       "      <th>target</th>\n",
       "      <th>name_contract_type</th>\n",
       "      <th>code_gender</th>\n",
       "      <th>flag_own_car</th>\n",
       "      <th>flag_own_realty</th>\n",
       "      <th>cnt_children</th>\n",
       "      <th>amt_income_total</th>\n",
       "      <th>amt_credit</th>\n",
       "      <th>amt_annuity</th>\n",
       "      <th>...</th>\n",
       "      <th>flag_document_18</th>\n",
       "      <th>flag_document_19</th>\n",
       "      <th>flag_document_20</th>\n",
       "      <th>flag_document_21</th>\n",
       "      <th>amt_req_credit_bureau_hour</th>\n",
       "      <th>amt_req_credit_bureau_day</th>\n",
       "      <th>amt_req_credit_bureau_week</th>\n",
       "      <th>amt_req_credit_bureau_mon</th>\n",
       "      <th>amt_req_credit_bureau_qrt</th>\n",
       "      <th>amt_req_credit_bureau_year</th>\n",
       "    </tr>\n",
       "  </thead>\n",
       "  <tbody>\n",
       "    <tr>\n",
       "      <th>0</th>\n",
       "      <td>100002</td>\n",
       "      <td>1</td>\n",
       "      <td>Cash loans</td>\n",
       "      <td>M</td>\n",
       "      <td>N</td>\n",
       "      <td>Y</td>\n",
       "      <td>0</td>\n",
       "      <td>202500.0</td>\n",
       "      <td>406597.5</td>\n",
       "      <td>24700.5</td>\n",
       "      <td>...</td>\n",
       "      <td>0</td>\n",
       "      <td>0</td>\n",
       "      <td>0</td>\n",
       "      <td>0</td>\n",
       "      <td>0.0</td>\n",
       "      <td>0.0</td>\n",
       "      <td>0.0</td>\n",
       "      <td>0.0</td>\n",
       "      <td>0.0</td>\n",
       "      <td>1.0</td>\n",
       "    </tr>\n",
       "    <tr>\n",
       "      <th>1</th>\n",
       "      <td>100003</td>\n",
       "      <td>0</td>\n",
       "      <td>Cash loans</td>\n",
       "      <td>F</td>\n",
       "      <td>N</td>\n",
       "      <td>N</td>\n",
       "      <td>0</td>\n",
       "      <td>270000.0</td>\n",
       "      <td>1293502.5</td>\n",
       "      <td>35698.5</td>\n",
       "      <td>...</td>\n",
       "      <td>0</td>\n",
       "      <td>0</td>\n",
       "      <td>0</td>\n",
       "      <td>0</td>\n",
       "      <td>0.0</td>\n",
       "      <td>0.0</td>\n",
       "      <td>0.0</td>\n",
       "      <td>0.0</td>\n",
       "      <td>0.0</td>\n",
       "      <td>0.0</td>\n",
       "    </tr>\n",
       "    <tr>\n",
       "      <th>2</th>\n",
       "      <td>100004</td>\n",
       "      <td>0</td>\n",
       "      <td>Revolving loans</td>\n",
       "      <td>M</td>\n",
       "      <td>Y</td>\n",
       "      <td>Y</td>\n",
       "      <td>0</td>\n",
       "      <td>67500.0</td>\n",
       "      <td>135000.0</td>\n",
       "      <td>6750.0</td>\n",
       "      <td>...</td>\n",
       "      <td>0</td>\n",
       "      <td>0</td>\n",
       "      <td>0</td>\n",
       "      <td>0</td>\n",
       "      <td>0.0</td>\n",
       "      <td>0.0</td>\n",
       "      <td>0.0</td>\n",
       "      <td>0.0</td>\n",
       "      <td>0.0</td>\n",
       "      <td>0.0</td>\n",
       "    </tr>\n",
       "    <tr>\n",
       "      <th>3</th>\n",
       "      <td>100006</td>\n",
       "      <td>0</td>\n",
       "      <td>Cash loans</td>\n",
       "      <td>F</td>\n",
       "      <td>N</td>\n",
       "      <td>Y</td>\n",
       "      <td>0</td>\n",
       "      <td>135000.0</td>\n",
       "      <td>312682.5</td>\n",
       "      <td>29686.5</td>\n",
       "      <td>...</td>\n",
       "      <td>0</td>\n",
       "      <td>0</td>\n",
       "      <td>0</td>\n",
       "      <td>0</td>\n",
       "      <td>NaN</td>\n",
       "      <td>NaN</td>\n",
       "      <td>NaN</td>\n",
       "      <td>NaN</td>\n",
       "      <td>NaN</td>\n",
       "      <td>NaN</td>\n",
       "    </tr>\n",
       "    <tr>\n",
       "      <th>4</th>\n",
       "      <td>100007</td>\n",
       "      <td>0</td>\n",
       "      <td>Cash loans</td>\n",
       "      <td>M</td>\n",
       "      <td>N</td>\n",
       "      <td>Y</td>\n",
       "      <td>0</td>\n",
       "      <td>121500.0</td>\n",
       "      <td>513000.0</td>\n",
       "      <td>21865.5</td>\n",
       "      <td>...</td>\n",
       "      <td>0</td>\n",
       "      <td>0</td>\n",
       "      <td>0</td>\n",
       "      <td>0</td>\n",
       "      <td>0.0</td>\n",
       "      <td>0.0</td>\n",
       "      <td>0.0</td>\n",
       "      <td>0.0</td>\n",
       "      <td>0.0</td>\n",
       "      <td>0.0</td>\n",
       "    </tr>\n",
       "  </tbody>\n",
       "</table>\n",
       "<p>5 rows × 122 columns</p>\n",
       "</div>"
      ],
      "text/plain": [
       "   sk_id_curr  target name_contract_type code_gender flag_own_car  \\\n",
       "0      100002       1         Cash loans           M            N   \n",
       "1      100003       0         Cash loans           F            N   \n",
       "2      100004       0    Revolving loans           M            Y   \n",
       "3      100006       0         Cash loans           F            N   \n",
       "4      100007       0         Cash loans           M            N   \n",
       "\n",
       "  flag_own_realty  cnt_children  amt_income_total  amt_credit  amt_annuity  \\\n",
       "0               Y             0          202500.0    406597.5      24700.5   \n",
       "1               N             0          270000.0   1293502.5      35698.5   \n",
       "2               Y             0           67500.0    135000.0       6750.0   \n",
       "3               Y             0          135000.0    312682.5      29686.5   \n",
       "4               Y             0          121500.0    513000.0      21865.5   \n",
       "\n",
       "              ...              flag_document_18 flag_document_19  \\\n",
       "0             ...                             0                0   \n",
       "1             ...                             0                0   \n",
       "2             ...                             0                0   \n",
       "3             ...                             0                0   \n",
       "4             ...                             0                0   \n",
       "\n",
       "  flag_document_20 flag_document_21 amt_req_credit_bureau_hour  \\\n",
       "0                0                0                        0.0   \n",
       "1                0                0                        0.0   \n",
       "2                0                0                        0.0   \n",
       "3                0                0                        NaN   \n",
       "4                0                0                        0.0   \n",
       "\n",
       "  amt_req_credit_bureau_day  amt_req_credit_bureau_week  \\\n",
       "0                       0.0                         0.0   \n",
       "1                       0.0                         0.0   \n",
       "2                       0.0                         0.0   \n",
       "3                       NaN                         NaN   \n",
       "4                       0.0                         0.0   \n",
       "\n",
       "   amt_req_credit_bureau_mon  amt_req_credit_bureau_qrt  \\\n",
       "0                        0.0                        0.0   \n",
       "1                        0.0                        0.0   \n",
       "2                        0.0                        0.0   \n",
       "3                        NaN                        NaN   \n",
       "4                        0.0                        0.0   \n",
       "\n",
       "   amt_req_credit_bureau_year  \n",
       "0                         1.0  \n",
       "1                         0.0  \n",
       "2                         0.0  \n",
       "3                         NaN  \n",
       "4                         0.0  \n",
       "\n",
       "[5 rows x 122 columns]"
      ]
     },
     "execution_count": 2,
     "metadata": {},
     "output_type": "execute_result"
    }
   ],
   "source": [
    "train_df = pd.read_csv('./data/application_train.csv.zip')\n",
    "train_df = train_df.rename(lambda x: x.lower(), axis=1)\n",
    "train_df.head()"
   ]
  },
  {
   "cell_type": "code",
   "execution_count": 3,
   "metadata": {},
   "outputs": [
    {
     "data": {
      "text/html": [
       "<div>\n",
       "<style scoped>\n",
       "    .dataframe tbody tr th:only-of-type {\n",
       "        vertical-align: middle;\n",
       "    }\n",
       "\n",
       "    .dataframe tbody tr th {\n",
       "        vertical-align: top;\n",
       "    }\n",
       "\n",
       "    .dataframe thead th {\n",
       "        text-align: right;\n",
       "    }\n",
       "</style>\n",
       "<table border=\"1\" class=\"dataframe\">\n",
       "  <thead>\n",
       "    <tr style=\"text-align: right;\">\n",
       "      <th></th>\n",
       "      <th>sk_id_curr</th>\n",
       "      <th>name_contract_type</th>\n",
       "      <th>code_gender</th>\n",
       "      <th>flag_own_car</th>\n",
       "      <th>flag_own_realty</th>\n",
       "      <th>cnt_children</th>\n",
       "      <th>amt_income_total</th>\n",
       "      <th>amt_credit</th>\n",
       "      <th>amt_annuity</th>\n",
       "      <th>amt_goods_price</th>\n",
       "      <th>...</th>\n",
       "      <th>flag_document_18</th>\n",
       "      <th>flag_document_19</th>\n",
       "      <th>flag_document_20</th>\n",
       "      <th>flag_document_21</th>\n",
       "      <th>amt_req_credit_bureau_hour</th>\n",
       "      <th>amt_req_credit_bureau_day</th>\n",
       "      <th>amt_req_credit_bureau_week</th>\n",
       "      <th>amt_req_credit_bureau_mon</th>\n",
       "      <th>amt_req_credit_bureau_qrt</th>\n",
       "      <th>amt_req_credit_bureau_year</th>\n",
       "    </tr>\n",
       "  </thead>\n",
       "  <tbody>\n",
       "    <tr>\n",
       "      <th>0</th>\n",
       "      <td>100001</td>\n",
       "      <td>Cash loans</td>\n",
       "      <td>F</td>\n",
       "      <td>N</td>\n",
       "      <td>Y</td>\n",
       "      <td>0</td>\n",
       "      <td>135000.0</td>\n",
       "      <td>568800.0</td>\n",
       "      <td>20560.5</td>\n",
       "      <td>450000.0</td>\n",
       "      <td>...</td>\n",
       "      <td>0</td>\n",
       "      <td>0</td>\n",
       "      <td>0</td>\n",
       "      <td>0</td>\n",
       "      <td>0.0</td>\n",
       "      <td>0.0</td>\n",
       "      <td>0.0</td>\n",
       "      <td>0.0</td>\n",
       "      <td>0.0</td>\n",
       "      <td>0.0</td>\n",
       "    </tr>\n",
       "    <tr>\n",
       "      <th>1</th>\n",
       "      <td>100005</td>\n",
       "      <td>Cash loans</td>\n",
       "      <td>M</td>\n",
       "      <td>N</td>\n",
       "      <td>Y</td>\n",
       "      <td>0</td>\n",
       "      <td>99000.0</td>\n",
       "      <td>222768.0</td>\n",
       "      <td>17370.0</td>\n",
       "      <td>180000.0</td>\n",
       "      <td>...</td>\n",
       "      <td>0</td>\n",
       "      <td>0</td>\n",
       "      <td>0</td>\n",
       "      <td>0</td>\n",
       "      <td>0.0</td>\n",
       "      <td>0.0</td>\n",
       "      <td>0.0</td>\n",
       "      <td>0.0</td>\n",
       "      <td>0.0</td>\n",
       "      <td>3.0</td>\n",
       "    </tr>\n",
       "    <tr>\n",
       "      <th>2</th>\n",
       "      <td>100013</td>\n",
       "      <td>Cash loans</td>\n",
       "      <td>M</td>\n",
       "      <td>Y</td>\n",
       "      <td>Y</td>\n",
       "      <td>0</td>\n",
       "      <td>202500.0</td>\n",
       "      <td>663264.0</td>\n",
       "      <td>69777.0</td>\n",
       "      <td>630000.0</td>\n",
       "      <td>...</td>\n",
       "      <td>0</td>\n",
       "      <td>0</td>\n",
       "      <td>0</td>\n",
       "      <td>0</td>\n",
       "      <td>0.0</td>\n",
       "      <td>0.0</td>\n",
       "      <td>0.0</td>\n",
       "      <td>0.0</td>\n",
       "      <td>1.0</td>\n",
       "      <td>4.0</td>\n",
       "    </tr>\n",
       "    <tr>\n",
       "      <th>3</th>\n",
       "      <td>100028</td>\n",
       "      <td>Cash loans</td>\n",
       "      <td>F</td>\n",
       "      <td>N</td>\n",
       "      <td>Y</td>\n",
       "      <td>2</td>\n",
       "      <td>315000.0</td>\n",
       "      <td>1575000.0</td>\n",
       "      <td>49018.5</td>\n",
       "      <td>1575000.0</td>\n",
       "      <td>...</td>\n",
       "      <td>0</td>\n",
       "      <td>0</td>\n",
       "      <td>0</td>\n",
       "      <td>0</td>\n",
       "      <td>0.0</td>\n",
       "      <td>0.0</td>\n",
       "      <td>0.0</td>\n",
       "      <td>0.0</td>\n",
       "      <td>0.0</td>\n",
       "      <td>3.0</td>\n",
       "    </tr>\n",
       "    <tr>\n",
       "      <th>4</th>\n",
       "      <td>100038</td>\n",
       "      <td>Cash loans</td>\n",
       "      <td>M</td>\n",
       "      <td>Y</td>\n",
       "      <td>N</td>\n",
       "      <td>1</td>\n",
       "      <td>180000.0</td>\n",
       "      <td>625500.0</td>\n",
       "      <td>32067.0</td>\n",
       "      <td>625500.0</td>\n",
       "      <td>...</td>\n",
       "      <td>0</td>\n",
       "      <td>0</td>\n",
       "      <td>0</td>\n",
       "      <td>0</td>\n",
       "      <td>NaN</td>\n",
       "      <td>NaN</td>\n",
       "      <td>NaN</td>\n",
       "      <td>NaN</td>\n",
       "      <td>NaN</td>\n",
       "      <td>NaN</td>\n",
       "    </tr>\n",
       "  </tbody>\n",
       "</table>\n",
       "<p>5 rows × 121 columns</p>\n",
       "</div>"
      ],
      "text/plain": [
       "   sk_id_curr name_contract_type code_gender flag_own_car flag_own_realty  \\\n",
       "0      100001         Cash loans           F            N               Y   \n",
       "1      100005         Cash loans           M            N               Y   \n",
       "2      100013         Cash loans           M            Y               Y   \n",
       "3      100028         Cash loans           F            N               Y   \n",
       "4      100038         Cash loans           M            Y               N   \n",
       "\n",
       "   cnt_children  amt_income_total  amt_credit  amt_annuity  amt_goods_price  \\\n",
       "0             0          135000.0    568800.0      20560.5         450000.0   \n",
       "1             0           99000.0    222768.0      17370.0         180000.0   \n",
       "2             0          202500.0    663264.0      69777.0         630000.0   \n",
       "3             2          315000.0   1575000.0      49018.5        1575000.0   \n",
       "4             1          180000.0    625500.0      32067.0         625500.0   \n",
       "\n",
       "              ...             flag_document_18 flag_document_19  \\\n",
       "0             ...                            0                0   \n",
       "1             ...                            0                0   \n",
       "2             ...                            0                0   \n",
       "3             ...                            0                0   \n",
       "4             ...                            0                0   \n",
       "\n",
       "  flag_document_20 flag_document_21 amt_req_credit_bureau_hour  \\\n",
       "0                0                0                        0.0   \n",
       "1                0                0                        0.0   \n",
       "2                0                0                        0.0   \n",
       "3                0                0                        0.0   \n",
       "4                0                0                        NaN   \n",
       "\n",
       "   amt_req_credit_bureau_day  amt_req_credit_bureau_week  \\\n",
       "0                        0.0                         0.0   \n",
       "1                        0.0                         0.0   \n",
       "2                        0.0                         0.0   \n",
       "3                        0.0                         0.0   \n",
       "4                        NaN                         NaN   \n",
       "\n",
       "   amt_req_credit_bureau_mon  amt_req_credit_bureau_qrt  \\\n",
       "0                        0.0                        0.0   \n",
       "1                        0.0                        0.0   \n",
       "2                        0.0                        1.0   \n",
       "3                        0.0                        0.0   \n",
       "4                        NaN                        NaN   \n",
       "\n",
       "   amt_req_credit_bureau_year  \n",
       "0                         0.0  \n",
       "1                         3.0  \n",
       "2                         4.0  \n",
       "3                         3.0  \n",
       "4                         NaN  \n",
       "\n",
       "[5 rows x 121 columns]"
      ]
     },
     "execution_count": 3,
     "metadata": {},
     "output_type": "execute_result"
    }
   ],
   "source": [
    "test_df = pd.read_csv('./data/application_test.csv.zip')\n",
    "test_df = test_df.rename(lambda x: x.lower(), axis=1)\n",
    "test_df.head()"
   ]
  },
  {
   "cell_type": "markdown",
   "metadata": {},
   "source": [
    "### Columns"
   ]
  },
  {
   "cell_type": "code",
   "execution_count": 4,
   "metadata": {},
   "outputs": [],
   "source": [
    "target_column = 'target'\n",
    "\n",
    "id_column = 'sk_id_curr'\n",
    "\n",
    "# numeric columns\n",
    "child_cnt_column = 'cnt_children'\n",
    "amt_columns = ['amt_income_total', 'amt_credit', 'amt_annuity', 'amt_goods_price']\n",
    "reg_pop_column = 'region_population_relative'\n",
    "days_columns = ['days_birth', 'days_employed', 'days_registration', 'days_id_publish']\n",
    "car_age_column = 'own_car_age'\n",
    "\n",
    "# categorical columns\n",
    "contract_column = 'name_contract_type'\n",
    "gender_column = 'code_gender'\n",
    "flag_own_columns = ['flag_own_car', 'flag_own_realty']\n",
    "name_columns = ['name_type_suite', 'name_income_type', 'name_education_type', \n",
    "                'name_family_status', 'name_housing_type']\n",
    "flag_columns = ['flag_mobil', 'flag_emp_phone', 'flag_work_phone', 'flag_cont_mobile',\n",
    "                'flag_phone', 'flag_email']"
   ]
  },
  {
   "cell_type": "code",
   "execution_count": 5,
   "metadata": {},
   "outputs": [
    {
     "data": {
      "text/plain": [
       "((307511, 121), (307511,))"
      ]
     },
     "execution_count": 5,
     "metadata": {},
     "output_type": "execute_result"
    }
   ],
   "source": [
    "X_train = train_df.drop([target_column], axis=1)\n",
    "y_train = train_df[target_column].copy()\n",
    "X_train.shape, y_train.shape"
   ]
  },
  {
   "cell_type": "code",
   "execution_count": 6,
   "metadata": {},
   "outputs": [
    {
     "data": {
      "text/plain": [
       "24825"
      ]
     },
     "execution_count": 6,
     "metadata": {},
     "output_type": "execute_result"
    }
   ],
   "source": [
    "y_train_count = train_df[target_column].value_counts()[1]\n",
    "y_train_count"
   ]
  },
  {
   "cell_type": "markdown",
   "metadata": {},
   "source": [
    "### Stratified sampling"
   ]
  },
  {
   "cell_type": "code",
   "execution_count": 7,
   "metadata": {},
   "outputs": [],
   "source": [
    "def get_equal_classes(df, target_column, sample_size, random_state):\n",
    "    sample_df = (train_df.groupby(target_column, as_index=False)\n",
    "                         .apply(lambda x: x.sample(sample_size, random_state=random_state))\n",
    "                         .sample(frac=1))\n",
    "    return sample_df"
   ]
  },
  {
   "cell_type": "code",
   "execution_count": 8,
   "metadata": {},
   "outputs": [
    {
     "data": {
      "text/plain": [
       "target\n",
       "0    1000\n",
       "1    1000\n",
       "Name: target, dtype: int64"
      ]
     },
     "execution_count": 8,
     "metadata": {},
     "output_type": "execute_result"
    }
   ],
   "source": [
    "sample_size = 1000\n",
    "random_state = 42\n",
    "\n",
    "sample_df = get_equal_classes(train_df, target_column, sample_size, random_state)\n",
    "sample_df.groupby(target_column)[target_column].count()"
   ]
  },
  {
   "cell_type": "markdown",
   "metadata": {},
   "source": [
    "### Pipeline"
   ]
  },
  {
   "cell_type": "code",
   "execution_count": 9,
   "metadata": {},
   "outputs": [],
   "source": [
    "import warnings\n",
    "warnings.filterwarnings(action='ignore', category=UserWarning)"
   ]
  },
  {
   "cell_type": "code",
   "execution_count": 10,
   "metadata": {},
   "outputs": [
    {
     "name": "stderr",
     "output_type": "stream",
     "text": [
      "/home/dlabazkin/miniconda3/envs/otus/lib/python3.6/site-packages/sklearn/cross_validation.py:41: DeprecationWarning: This module was deprecated in version 0.18 in favor of the model_selection module into which all the refactored classes and functions are moved. Also note that the interface of the new CV iterators are different from that of this module. This module will be removed in 0.20.\n",
      "  \"This module will be removed in 0.20.\", DeprecationWarning)\n"
     ]
    }
   ],
   "source": [
    "from scipy.stats import randint as sp_randint\n",
    "\n",
    "from sklearn.base import BaseEstimator, TransformerMixin\n",
    "from sklearn.pipeline import Pipeline, FeatureUnion\n",
    "from sklearn.impute import SimpleImputer\n",
    "from sklearn.preprocessing import StandardScaler, RobustScaler, CategoricalEncoder\n",
    "from sklearn.linear_model import LogisticRegression\n",
    "from sklearn.model_selection import GridSearchCV, RandomizedSearchCV, learning_curve\n",
    "from sklearn.ensemble import RandomForestClassifier, ExtraTreesClassifier, VotingClassifier\n",
    "from sklearn.naive_bayes import GaussianNB\n",
    "from sklearn.neighbors import KNeighborsClassifier\n",
    "from sklearn.tree import DecisionTreeClassifier\n",
    "from sklearn.svm import LinearSVC, SVC\n",
    "from sklearn.neural_network import MLPClassifier\n",
    "from sklearn.discriminant_analysis import LinearDiscriminantAnalysis, QuadraticDiscriminantAnalysis\n",
    "from sklearn.decomposition import PCA, KernelPCA\n",
    "from sklearn.manifold import TSNE\n",
    "from sklearn.cross_validation import cross_val_score\n",
    "\n",
    "from imblearn.under_sampling import RandomUnderSampler\n",
    "import imblearn.pipeline as imbp\n",
    "\n",
    "from xgboost import XGBClassifier\n"
   ]
  },
  {
   "cell_type": "code",
   "execution_count": 11,
   "metadata": {},
   "outputs": [],
   "source": [
    "class ColumnExtractor(BaseEstimator, TransformerMixin):\n",
    "    def __init__(self, columns):\n",
    "        self.columns = columns\n",
    "    \n",
    "    def fit(self, X, y=None):\n",
    "        return self\n",
    "    \n",
    "    def transform(self, X):\n",
    "        return X[self.columns]"
   ]
  },
  {
   "cell_type": "code",
   "execution_count": 12,
   "metadata": {},
   "outputs": [],
   "source": [
    "class CategoricalImputer(BaseEstimator, TransformerMixin):\n",
    "    def __init__(self, label=None):\n",
    "        self.label = label\n",
    "    \n",
    "    def fit(self, X, y=None):\n",
    "        if self.label:\n",
    "            self.fill_values_ = self.label \n",
    "        else:\n",
    "            self.fill_values_ = X.mode().iloc[0]\n",
    "        return self\n",
    "    \n",
    "    def transform(self, X):\n",
    "        return X.fillna(self.fill_values_).values"
   ]
  },
  {
   "cell_type": "raw",
   "metadata": {},
   "source": [
    "class ColumnSummator(BaseEstimator, TransformerMixin):\n",
    "    def __init__(self, const=0):\n",
    "        self.const = const\n",
    "    \n",
    "    def fit(self, X, y=None):\n",
    "        return self\n",
    "    \n",
    "    def transform(self, X):\n",
    "        X_sum = X.sum(axis=1).reshape(-1, 1) + self.const\n",
    "        return X_sum"
   ]
  },
  {
   "cell_type": "raw",
   "metadata": {},
   "source": [
    "# При использовании pd.cut для binning и сохранением bin_features в fit, \n",
    "# при transform получаю следующую ошибку:\n",
    "# ValueError: Input contains NaN, infinity or a value too large for dtype('float64').\n",
    "class NumericBinner(BaseEstimator, TransformerMixin):\n",
    "    def __init__(self, bins):\n",
    "        self.bins = bins\n",
    "    \n",
    "    def fit(self, X, y=None):\n",
    "        self.bin_ranges_ = pd.cut(X, self.bins, labels=False, retbins=True)\n",
    "        return self\n",
    "    \n",
    "    def transform(self, X):\n",
    "        X_bin = pd.cut(X, self.bin_ranges_, labels=False, include_lowest=True)\n",
    "        return X_bin"
   ]
  },
  {
   "cell_type": "code",
   "execution_count": null,
   "metadata": {},
   "outputs": [],
   "source": []
  },
  {
   "cell_type": "code",
   "execution_count": 13,
   "metadata": {},
   "outputs": [
    {
     "data": {
      "text/plain": [
       "['cnt_children',\n",
       " 'amt_income_total',\n",
       " 'amt_credit',\n",
       " 'amt_annuity',\n",
       " 'amt_goods_price',\n",
       " 'region_population_relative',\n",
       " 'days_birth',\n",
       " 'days_employed',\n",
       " 'days_registration',\n",
       " 'days_id_publish',\n",
       " 'own_car_age']"
      ]
     },
     "execution_count": 13,
     "metadata": {},
     "output_type": "execute_result"
    }
   ],
   "source": [
    "num_columns = [child_cnt_column] + amt_columns + [reg_pop_column] + days_columns + [car_age_column]\n",
    "num_columns"
   ]
  },
  {
   "cell_type": "code",
   "execution_count": 14,
   "metadata": {},
   "outputs": [
    {
     "data": {
      "text/plain": [
       "['name_contract_type',\n",
       " 'code_gender',\n",
       " 'flag_own_car',\n",
       " 'flag_own_realty',\n",
       " 'name_type_suite',\n",
       " 'name_income_type',\n",
       " 'name_education_type',\n",
       " 'name_family_status',\n",
       " 'name_housing_type',\n",
       " 'flag_mobil',\n",
       " 'flag_emp_phone',\n",
       " 'flag_work_phone',\n",
       " 'flag_cont_mobile',\n",
       " 'flag_phone',\n",
       " 'flag_email']"
      ]
     },
     "execution_count": 14,
     "metadata": {},
     "output_type": "execute_result"
    }
   ],
   "source": [
    "cat_columns = [contract_column] + [gender_column] + flag_own_columns + name_columns + flag_columns\n",
    "cat_columns"
   ]
  },
  {
   "cell_type": "code",
   "execution_count": 15,
   "metadata": {},
   "outputs": [],
   "source": [
    "sample_sizes = {0: sample_size, 1: sample_size}\n",
    "pipeline = imbp.Pipeline([\n",
    "    ('features', FeatureUnion([\n",
    "        ('numeric', Pipeline([\n",
    "            ('extract', ColumnExtractor(columns=num_columns)),\n",
    "            ('impute', SimpleImputer(strategy='mean')),\n",
    "            ('normalize', StandardScaler()),\n",
    "            #('bin', NumericBinner(bins=4)),\n",
    "            #('to_ordered_cat', CategoricalEncoder(encoding='ordinal'))\n",
    "        ])),\n",
    "        ('categorical', Pipeline([\n",
    "            ('extract', ColumnExtractor(columns=cat_columns)),\n",
    "            ('impute', CategoricalImputer()),\n",
    "            ('encoding', CategoricalEncoder('onehot-dense', handle_unknown='ignore'))\n",
    "        ]))\n",
    "    ])),\n",
    "    ('pca', PCA(n_components=0.99)),\n",
    "    ('sampling', RandomUnderSampler(ratio=sample_sizes, random_state=random_state)),\n",
    "    ('clf', LogisticRegression())\n",
    "])"
   ]
  },
  {
   "cell_type": "code",
   "execution_count": 16,
   "metadata": {},
   "outputs": [],
   "source": [
    "transform_pipeline = imbp.Pipeline([\n",
    "    ('features', FeatureUnion([\n",
    "        ('numeric', Pipeline([\n",
    "            ('extract', ColumnExtractor(columns=num_columns)),\n",
    "            ('impute', SimpleImputer(strategy='mean')),\n",
    "            ('normalize', StandardScaler()),\n",
    "            #('bin', NumericBinner(bins=4)),\n",
    "            #('to_ordered_cat', CategoricalEncoder(encoding='ordinal'))\n",
    "        ])),\n",
    "        ('categorical', Pipeline([\n",
    "            ('extract', ColumnExtractor(columns=cat_columns)),\n",
    "            ('impute', CategoricalImputer()),\n",
    "            ('encoding', CategoricalEncoder('onehot-dense', handle_unknown='ignore'))\n",
    "        ]))\n",
    "    ])),\n",
    "    ('pca', PCA(n_components=0.99)),\n",
    "    ('sampling', RandomUnderSampler(ratio=sample_sizes, random_state=random_state))\n",
    "])"
   ]
  },
  {
   "cell_type": "code",
   "execution_count": 17,
   "metadata": {},
   "outputs": [
    {
     "data": {
      "text/plain": [
       "((2000, 28), (2000,))"
      ]
     },
     "execution_count": 17,
     "metadata": {},
     "output_type": "execute_result"
    }
   ],
   "source": [
    "X_train_sample, y_train_sample = transform_pipeline.fit_sample(X_train, y_train)\n",
    "X_train_sample.shape, y_train_sample.shape"
   ]
  },
  {
   "cell_type": "code",
   "execution_count": null,
   "metadata": {},
   "outputs": [],
   "source": []
  },
  {
   "cell_type": "raw",
   "metadata": {},
   "source": [
    "param_grid = [\n",
    "                {'clf': [LogisticRegression()], \n",
    "                 'clf__random_state': [random_state],\n",
    "                 'clf__penalty': ['l1', 'l2'], \n",
    "                 'clf__C': np.logspace(-1, 3, num=5),\n",
    "                 'clf__max_iter': [100]}\n",
    "                 \n",
    "#                 {'clf': [RandomForestClassifier(random_state=random_state)],\n",
    "#                  'clf__n_estimators': [500],\n",
    "#                  'clf__criterion': ['entropy'],\n",
    "#                  'clf__min_samples_leaf': [20],\n",
    "#                  'clf__class_weight': [None]},\n",
    "#                 {'clf': []}\n",
    "             ]\n",
    "\n",
    "grid_search = GridSearchCV(pipeline, param_grid=param_grid, scoring='roc_auc', cv=3, n_jobs=-1, \n",
    "                           iid=False, verbose=1)\n",
    "grid_search.fit(X_train_sample, y_train_sample)\n",
    "grid_search.best_params_, grid_search.best_score_"
   ]
  },
  {
   "cell_type": "code",
   "execution_count": 19,
   "metadata": {},
   "outputs": [
    {
     "name": "stdout",
     "output_type": "stream",
     "text": [
      "Fitting 3 folds for each of 5 candidates, totalling 15 fits\n"
     ]
    },
    {
     "name": "stderr",
     "output_type": "stream",
     "text": [
      "[Parallel(n_jobs=-1)]: Done  15 out of  15 | elapsed:  1.0min finished\n"
     ]
    },
    {
     "name": "stdout",
     "output_type": "stream",
     "text": [
      "Best Params:\n",
      "{'clf__random_state': 42, 'clf__penalty': 'l2', 'clf__max_iter': 1000, 'clf__C': 0.10000000000000001, 'clf': LogisticRegression(C=0.10000000000000001, class_weight=None, dual=False,\n",
      "          fit_intercept=True, intercept_scaling=1, max_iter=1000,\n",
      "          multi_class='ovr', n_jobs=1, penalty='l2', random_state=42,\n",
      "          solver='liblinear', tol=0.0001, verbose=0, warm_start=False)}\n",
      "Train Score: 0.63862 +- 0.00477\n",
      "Test Score: 0.63870 +- 0.00239\n",
      "\n",
      "Fitting 3 folds for each of 5 candidates, totalling 15 fits\n"
     ]
    },
    {
     "name": "stderr",
     "output_type": "stream",
     "text": [
      "[Parallel(n_jobs=-1)]: Done  15 out of  15 | elapsed:  5.4min finished\n"
     ]
    },
    {
     "name": "stdout",
     "output_type": "stream",
     "text": [
      "Best Params:\n",
      "{'clf': RandomForestClassifier(bootstrap=True, class_weight=None, criterion='gini',\n",
      "            max_depth=5, max_features='auto', max_leaf_nodes=None,\n",
      "            min_impurity_decrease=0.0, min_impurity_split=None,\n",
      "            min_samples_leaf=19, min_samples_split=24,\n",
      "            min_weight_fraction_leaf=0.0, n_estimators=900, n_jobs=1,\n",
      "            oob_score=False, random_state=42, verbose=0, warm_start=False), 'clf__class_weight': None, 'clf__criterion': 'gini', 'clf__max_depth': 5, 'clf__min_samples_leaf': 19, 'clf__min_samples_split': 24, 'clf__n_estimators': 900, 'clf__random_state': 42}\n",
      "Train Score: 0.63800 +- 0.00361\n",
      "Test Score: 0.63525 +- 0.00373\n",
      "\n",
      "Fitting 3 folds for each of 5 candidates, totalling 15 fits\n"
     ]
    },
    {
     "name": "stderr",
     "output_type": "stream",
     "text": [
      "[Parallel(n_jobs=-1)]: Done  15 out of  15 | elapsed:  3.0min finished\n"
     ]
    },
    {
     "name": "stdout",
     "output_type": "stream",
     "text": [
      "Best Params:\n",
      "{'clf__random_state': 42, 'clf__probability': True, 'clf__kernel': 'linear', 'clf__gamma': 'auto', 'clf__class_weight': None, 'clf__C': 0.01, 'clf': SVC(C=0.01, cache_size=200, class_weight=None, coef0=0.0,\n",
      "  decision_function_shape='ovr', degree=3, gamma='auto', kernel='linear',\n",
      "  max_iter=-1, probability=True, random_state=42, shrinking=True,\n",
      "  tol=0.001, verbose=False)}\n",
      "Train Score: 0.63854 +- 0.00420\n",
      "Test Score: 0.63872 +- 0.00276\n",
      "\n"
     ]
    }
   ],
   "source": [
    "param_dist_grid = [\n",
    "                       {'clf': [LogisticRegression()],\n",
    "                        'clf__random_state': [random_state],\n",
    "                        'clf__penalty': ['l1', 'l2'], \n",
    "                        'clf__C': np.logspace(-3, 3, num=7),\n",
    "                        'clf__max_iter': [1000]},\n",
    "#                        {'clf': [GaussianNB()],\n",
    "#                         'clf__var_smoothing': np.logspace(-11, -7, num=5)},\n",
    "#                        {'clf': [KNeighborsClassifier()],\n",
    "#                         'clf__n_neighbors': [300, 400, 500],\n",
    "#                         'clf__weights': ['uniform', 'distance']},\n",
    "#                        {'clf': [DecisionTreeClassifier()],\n",
    "#                         'clf__random_state': [random_state],\n",
    "#                         'clf__max_depth': [5, 10, 15, 20],\n",
    "#                         'clf__min_samples_split': sp_randint(2, 11),\n",
    "#                         'clf__min_samples_leaf': sp_randint(1, 11),\n",
    "#                         'clf__criterion': ['gini', 'entropy']},\n",
    "                       {'clf': [RandomForestClassifier()],\n",
    "                        'clf__random_state': [random_state],\n",
    "                        'clf__max_depth': [3, 5, 7],\n",
    "                        'clf__n_estimators': [500, 700, 900],\n",
    "                        'clf__min_samples_split': sp_randint(2, 50),\n",
    "                        'clf__min_samples_leaf': sp_randint(1, 50),\n",
    "                        'clf__criterion': ['gini', 'entropy'],\n",
    "                        'clf__class_weight': [None, 'balanced', 'balanced_subsample']},\n",
    "#                        {'clf': [ExtraTreesClassifier()],\n",
    "#                         'clf__random_state': [random_state],\n",
    "#                         'clf__max_depth': [3, 5, 7],\n",
    "#                         'clf__n_estimators': [500, 700, 1000],\n",
    "#                         'clf__min_samples_split': sp_randint(2, 50),\n",
    "#                         'clf__min_samples_leaf': sp_randint(1, 50),\n",
    "#                         'clf__criterion': ['gini', 'entropy'],\n",
    "#                         'clf__class_weight': [None, 'balanced', 'balanced_subsample']},\n",
    "#                        {'clf': [LinearSVC()],\n",
    "#                         'clf__random_state': [random_state],\n",
    "#                         'clf__penalty': ['l2'],\n",
    "#                         'clf__dual': [False],\n",
    "#                         'clf__C': np.logspace(-2, 2, 5),\n",
    "#                         'clf__max_iter': [100]},\n",
    "                       {'clf': [SVC()],\n",
    "                        'clf__random_state': [random_state],\n",
    "                        'clf__kernel': ['linear', 'rbf', 'sigmoid'],\n",
    "                        'clf__C': np.logspace(-2, 2, 5),\n",
    "                        'clf__gamma': ['auto', 'scale'],\n",
    "                        'clf__class_weight': [None, 'balanced'],\n",
    "                        'clf__probability': [True]},\n",
    "#                        {'clf': [SVC()],\n",
    "#                         'clf__random_state': [random_state],\n",
    "#                         'clf__kernel': ['poly'],\n",
    "#                         'clf__degree': [3, 4, 5],\n",
    "#                         'clf__C': np.logspace(-2, 2, 5),\n",
    "#                         'clf__gamma': ['auto', 'scale'],\n",
    "#                         'clf__class_weight': [None, 'balanced'],\n",
    "#                         'clf__probability': [True]},\n",
    "#                        {'clf': [QuadraticDiscriminantAnalysis()],\n",
    "#                         'clf__reg_param': [0, 0.05, 0.1, 0.15, 0.2]},\n",
    "#                        {'clf': [LinearDiscriminantAnalysis()]},\n",
    "#                        {'clf': [MLPClassifier()],\n",
    "#                         'clf__random_state': [random_state],\n",
    "#                         'clf__alpha': np.logspace(-5, 3, num=9),\n",
    "#                         'clf__learning_rate': ['constant', 'invscaling', 'adaptive'],\n",
    "#                         'clf__max_iter': [1000]}\n",
    "                  ]\n",
    "\n",
    "n_iter_search = 5\n",
    "classifiers = []\n",
    "\n",
    "for (i, param_dist) in enumerate(param_dist_grid):\n",
    "    random_search = RandomizedSearchCV(pipeline, param_distributions=param_dist, scoring='roc_auc', cv=3, \n",
    "                                       n_jobs=-1, n_iter=n_iter_search, random_state=random_state, \n",
    "                                       verbose=1, iid=True, return_train_score=True)\n",
    "    random_search.fit(X_train, y_train)\n",
    "    \n",
    "    clf_name = str(i)\n",
    "    clf_estimator = random_search.best_estimator_\n",
    "    classifiers.append((clf_name, clf_estimator))\n",
    "    \n",
    "    print('Best Params:')\n",
    "    print(random_search.best_params_)\n",
    "    print('Train Score: {0:.5f} +- {1:.5f}'.format(random_search.cv_results_['mean_train_score'][0],\n",
    "                                         random_search.cv_results_['std_train_score'][0]))\n",
    "    print('Test Score: {0:.5f} +- {1:.5f}'.format(random_search.cv_results_['mean_test_score'][0],\n",
    "                                        random_search.cv_results_['std_test_score'][0]))\n",
    "    print()"
   ]
  },
  {
   "cell_type": "code",
   "execution_count": 20,
   "metadata": {},
   "outputs": [
    {
     "data": {
      "text/plain": [
       "<matplotlib.axes._subplots.AxesSubplot at 0x7f2fb80a4080>"
      ]
     },
     "execution_count": 20,
     "metadata": {},
     "output_type": "execute_result"
    },
    {
     "data": {
      "image/png": "[encoded data removed]",
      "text/plain": [
       "<Figure size 432x288 with 2 Axes>"
      ]
     },
     "metadata": {},
     "output_type": "display_data"
    }
   ],
   "source": [
    "preds = np.hstack(clf[1].predict_proba(test_df)[:, 1].reshape(-1, 1) for clf in classifiers)\n",
    "preds_df = DataFrame(preds)\n",
    "sns.heatmap(preds_df.corr(), annot=True)"
   ]
  },
  {
   "cell_type": "raw",
   "metadata": {
    "scrolled": false
   },
   "source": [
    "# Not used because data is not sampled in leaning_curve function via pipeline but use all data\n",
    "\n",
    "def plot_learning_curve(train_sizes, train_scores, test_scores, title, alpha=0.1):\n",
    "    train_mean = np.mean(train_scores, axis=1)\n",
    "    train_std = np.std(train_scores, axis=1)\n",
    "    test_mean = np.mean(test_scores, axis=1)\n",
    "    test_std = np.std(test_scores, axis=1)\n",
    "    plt.plot(train_sizes, train_mean, label='train score', color='blue', marker='o')\n",
    "    plt.fill_between(train_sizes, train_mean + train_std,\n",
    "                     train_mean - train_std, color='blue', alpha=alpha)\n",
    "    plt.plot(train_sizes, test_mean, label='test score', color='red', marker='o')\n",
    "\n",
    "    plt.fill_between(train_sizes, test_mean + test_std, test_mean - test_std, color='red', alpha=alpha)\n",
    "    plt.title(title)\n",
    "    plt.xlabel('Number of training points')\n",
    "    plt.ylabel('ROC AUC')\n",
    "    plt.grid(ls='--')\n",
    "    plt.legend(loc='best')\n",
    "    plt.show()\n",
    "\n",
    "\n",
    "for clf in classifiers:\n",
    "    train_sizes, train_scores, test_scores = learning_curve(\n",
    "            estimator=clf[1], X=X_train, y=y_train,\n",
    "            train_sizes=np.linspace(0.2, 1, 5), cv=3, scoring='roc_auc', n_jobs=1)\n",
    "    \n",
    "    clf_name = clf[1].named_steps['clf'].__class__.__name__\n",
    "    plot_learning_curve(train_sizes, train_scores, test_scores, title=clf_name)"
   ]
  },
  {
   "cell_type": "code",
   "execution_count": null,
   "metadata": {},
   "outputs": [],
   "source": []
  },
  {
   "cell_type": "code",
   "execution_count": null,
   "metadata": {},
   "outputs": [],
   "source": []
  },
  {
   "cell_type": "code",
   "execution_count": null,
   "metadata": {},
   "outputs": [],
   "source": []
  },
  {
   "cell_type": "code",
   "execution_count": 21,
   "metadata": {},
   "outputs": [],
   "source": [
    "voting_pipe = Pipeline([\n",
    "    ('voting', VotingClassifier(classifiers, voting='soft'))\n",
    "])"
   ]
  },
  {
   "cell_type": "code",
   "execution_count": 22,
   "metadata": {},
   "outputs": [
    {
     "name": "stdout",
     "output_type": "stream",
     "text": [
      "[CV]  ................................................................\n",
      "[CV]  ................................................................\n",
      "[CV]  ................................................................\n",
      "[CV] .......................................................  -  55.9s\n",
      "[CV] .......................................................  -  55.6s\n",
      "[CV] .......................................................  -  55.5s\n"
     ]
    },
    {
     "name": "stderr",
     "output_type": "stream",
     "text": [
      "[Parallel(n_jobs=-1)]: Done   3 out of   3 | elapsed:   57.9s finished\n"
     ]
    },
    {
     "data": {
      "text/plain": [
       "array([ 0.64105563,  0.64666652,  0.6411037 ])"
      ]
     },
     "execution_count": 22,
     "metadata": {},
     "output_type": "execute_result"
    }
   ],
   "source": [
    "cross_val_score(voting_pipe, X_train, y_train, scoring='roc_auc', cv=3, verbose=2, n_jobs=-1)"
   ]
  },
  {
   "cell_type": "code",
   "execution_count": 23,
   "metadata": {},
   "outputs": [],
   "source": [
    "from itertools import product\n",
    "\n",
    "def get_bin_combinations(classifiers_num):\n",
    "    return list(product(range(2), repeat=classifiers_num))[1:]"
   ]
  },
  {
   "cell_type": "code",
   "execution_count": 24,
   "metadata": {},
   "outputs": [
    {
     "data": {
      "text/plain": [
       "[(0, 0, 1), (0, 1, 0), (0, 1, 1), (1, 0, 0), (1, 0, 1), (1, 1, 0), (1, 1, 1)]"
      ]
     },
     "execution_count": 24,
     "metadata": {},
     "output_type": "execute_result"
    }
   ],
   "source": [
    "param_grid = {'voting__weights': get_bin_combinations(len(classifiers))}\n",
    "param_grid['voting__weights'][:10]"
   ]
  },
  {
   "cell_type": "code",
   "execution_count": 25,
   "metadata": {},
   "outputs": [
    {
     "name": "stdout",
     "output_type": "stream",
     "text": [
      "Fitting 2 folds for each of 7 candidates, totalling 14 fits\n",
      "[CV] voting__weights=(0, 0, 1) .......................................\n",
      "[CV] voting__weights=(0, 0, 1) .......................................\n",
      "[CV] voting__weights=(0, 1, 0) .......................................\n",
      "[CV] voting__weights=(0, 1, 0) .......................................\n",
      "[CV] ........................ voting__weights=(0, 0, 1), total= 1.4min\n",
      "[CV] voting__weights=(0, 1, 1) .......................................\n",
      "[CV] ........................ voting__weights=(0, 1, 0), total= 1.4min\n",
      "[CV] ........................ voting__weights=(0, 0, 1), total= 1.4min\n",
      "[CV] voting__weights=(0, 1, 1) .......................................\n",
      "[CV] voting__weights=(1, 0, 0) .......................................\n",
      "[CV] ........................ voting__weights=(0, 1, 0), total= 1.4min\n",
      "[CV] voting__weights=(1, 0, 0) .......................................\n",
      "[CV] ........................ voting__weights=(0, 1, 1), total= 1.4min\n",
      "[CV] voting__weights=(1, 0, 1) .......................................\n",
      "[CV] ........................ voting__weights=(0, 1, 1), total= 1.4min\n",
      "[CV] voting__weights=(1, 0, 1) .......................................\n",
      "[CV] ........................ voting__weights=(1, 0, 0), total= 1.4min\n",
      "[CV] ........................ voting__weights=(1, 0, 0), total= 1.4min\n",
      "[CV] voting__weights=(1, 1, 0) .......................................\n",
      "[CV] voting__weights=(1, 1, 0) .......................................\n",
      "[CV] ........................ voting__weights=(1, 1, 0), total= 1.5min\n",
      "[CV] voting__weights=(1, 1, 1) .......................................\n",
      "[CV] ........................ voting__weights=(1, 0, 1), total= 1.5min\n",
      "[CV] voting__weights=(1, 1, 1) .......................................\n",
      "[CV] ........................ voting__weights=(1, 0, 1), total= 1.5min\n",
      "[CV] ........................ voting__weights=(1, 1, 0), total= 1.5min\n",
      "[CV] ........................ voting__weights=(1, 1, 1), total=  53.7s\n",
      "[CV] ........................ voting__weights=(1, 1, 1), total=  54.1s\n"
     ]
    },
    {
     "name": "stderr",
     "output_type": "stream",
     "text": [
      "[Parallel(n_jobs=-1)]: Done  14 out of  14 | elapsed:  8.8min finished\n",
      "/home/dlabazkin/miniconda3/envs/otus/lib/python3.6/site-packages/sklearn/model_selection/_search.py:734: DeprecationWarning: The default of the `iid` parameter will change from True to False in version 0.22 and will be removed in 0.24. This will change numeric results when test-set sizes are unequal.\n",
      "  DeprecationWarning)\n"
     ]
    },
    {
     "data": {
      "text/plain": [
       "GridSearchCV(cv=2, error_score='raise-deprecating',\n",
       "       estimator=Pipeline(memory=None,\n",
       "     steps=[('voting', VotingClassifier(estimators=[('0', Pipeline(memory=None,\n",
       "     steps=[('features', FeatureUnion(n_jobs=1,\n",
       "       transformer_list=[('numeric', Pipeline(memory=None,\n",
       "     steps=[('extract', ColumnExtractor(columns=['cnt_children', 'amt_income_total', 'amt_credit', 'amt_annuity', 'amt....001, verbose=False))]))],\n",
       "         flatten_transform=None, n_jobs=1, voting='soft', weights=None))]),\n",
       "       fit_params=None, iid='warn', n_jobs=-1,\n",
       "       param_grid={'voting__weights': [(0, 0, 1), (0, 1, 0), (0, 1, 1), (1, 0, 0), (1, 0, 1), (1, 1, 0), (1, 1, 1)]},\n",
       "       pre_dispatch='2*n_jobs', refit=True, return_train_score='warn',\n",
       "       scoring='roc_auc', verbose=2)"
      ]
     },
     "execution_count": 25,
     "metadata": {},
     "output_type": "execute_result"
    }
   ],
   "source": [
    "grid_search = GridSearchCV(voting_pipe, param_grid=param_grid, n_jobs=-1, scoring='roc_auc', cv=2,\n",
    "                           verbose=2)\n",
    "grid_search.fit(X_train, y_train)"
   ]
  },
  {
   "cell_type": "code",
   "execution_count": 26,
   "metadata": {},
   "outputs": [
    {
     "name": "stdout",
     "output_type": "stream",
     "text": [
      "{'voting__weights': (0, 0, 1)} 0.639126316681\n",
      "{'voting__weights': (0, 1, 0)} 0.635338081786\n",
      "{'voting__weights': (0, 1, 1)} 0.641404298163\n",
      "{'voting__weights': (1, 0, 0)} 0.640253240748\n",
      "{'voting__weights': (1, 0, 1)} 0.640535816834\n",
      "{'voting__weights': (1, 1, 0)} 0.642603407126\n",
      "{'voting__weights': (1, 1, 1)} 0.6422784322\n",
      "Best score: 0.6426034071264077\n",
      "Best parameters set:\n",
      "\tvoting__weights: (1, 1, 0)\n"
     ]
    }
   ],
   "source": [
    "cv_results=grid_search.cv_results_\n",
    "for params, mean_score in zip(cv_results[\"params\"], cv_results[\"mean_test_score\"]):\n",
    "    print(params, mean_score)\n",
    "\n",
    "print('Best score: {}'.format(grid_search.best_score_))\n",
    "print('Best parameters set:')\n",
    "best_parameters = grid_search.best_estimator_.get_params()\n",
    "for param_name in sorted(param_grid.keys()):\n",
    "    print(\"\\t%s: %r\" % (param_name, best_parameters[param_name]))"
   ]
  },
  {
   "cell_type": "code",
   "execution_count": null,
   "metadata": {},
   "outputs": [],
   "source": []
  },
  {
   "cell_type": "code",
   "execution_count": null,
   "metadata": {},
   "outputs": [],
   "source": []
  },
  {
   "cell_type": "code",
   "execution_count": null,
   "metadata": {},
   "outputs": [],
   "source": []
  },
  {
   "cell_type": "markdown",
   "metadata": {},
   "source": [
    "### Predict on testing dataset by best model"
   ]
  },
  {
   "cell_type": "code",
   "execution_count": 39,
   "metadata": {},
   "outputs": [
    {
     "data": {
      "text/plain": [
       "(48744, 121)"
      ]
     },
     "execution_count": 39,
     "metadata": {},
     "output_type": "execute_result"
    }
   ],
   "source": [
    "test_df.shape"
   ]
  },
  {
   "cell_type": "code",
   "execution_count": 40,
   "metadata": {},
   "outputs": [
    {
     "name": "stdout",
     "output_type": "stream",
     "text": [
      "<class 'pandas.core.frame.DataFrame'>\n",
      "RangeIndex: 48744 entries, 0 to 48743\n",
      "Data columns (total 121 columns):\n",
      "sk_id_curr                      int64\n",
      "name_contract_type              object\n",
      "code_gender                     object\n",
      "flag_own_car                    object\n",
      "flag_own_realty                 object\n",
      "cnt_children                    int64\n",
      "amt_income_total                float64\n",
      "amt_credit                      float64\n",
      "amt_annuity                     float64\n",
      "amt_goods_price                 float64\n",
      "name_type_suite                 object\n",
      "name_income_type                object\n",
      "name_education_type             object\n",
      "name_family_status              object\n",
      "name_housing_type               object\n",
      "region_population_relative      float64\n",
      "days_birth                      int64\n",
      "days_employed                   int64\n",
      "days_registration               float64\n",
      "days_id_publish                 int64\n",
      "own_car_age                     float64\n",
      "flag_mobil                      int64\n",
      "flag_emp_phone                  int64\n",
      "flag_work_phone                 int64\n",
      "flag_cont_mobile                int64\n",
      "flag_phone                      int64\n",
      "flag_email                      int64\n",
      "occupation_type                 object\n",
      "cnt_fam_members                 float64\n",
      "region_rating_client            int64\n",
      "region_rating_client_w_city     int64\n",
      "weekday_appr_process_start      object\n",
      "hour_appr_process_start         int64\n",
      "reg_region_not_live_region      int64\n",
      "reg_region_not_work_region      int64\n",
      "live_region_not_work_region     int64\n",
      "reg_city_not_live_city          int64\n",
      "reg_city_not_work_city          int64\n",
      "live_city_not_work_city         int64\n",
      "organization_type               object\n",
      "ext_source_1                    float64\n",
      "ext_source_2                    float64\n",
      "ext_source_3                    float64\n",
      "apartments_avg                  float64\n",
      "basementarea_avg                float64\n",
      "years_beginexpluatation_avg     float64\n",
      "years_build_avg                 float64\n",
      "commonarea_avg                  float64\n",
      "elevators_avg                   float64\n",
      "entrances_avg                   float64\n",
      "floorsmax_avg                   float64\n",
      "floorsmin_avg                   float64\n",
      "landarea_avg                    float64\n",
      "livingapartments_avg            float64\n",
      "livingarea_avg                  float64\n",
      "nonlivingapartments_avg         float64\n",
      "nonlivingarea_avg               float64\n",
      "apartments_mode                 float64\n",
      "basementarea_mode               float64\n",
      "years_beginexpluatation_mode    float64\n",
      "years_build_mode                float64\n",
      "commonarea_mode                 float64\n",
      "elevators_mode                  float64\n",
      "entrances_mode                  float64\n",
      "floorsmax_mode                  float64\n",
      "floorsmin_mode                  float64\n",
      "landarea_mode                   float64\n",
      "livingapartments_mode           float64\n",
      "livingarea_mode                 float64\n",
      "nonlivingapartments_mode        float64\n",
      "nonlivingarea_mode              float64\n",
      "apartments_medi                 float64\n",
      "basementarea_medi               float64\n",
      "years_beginexpluatation_medi    float64\n",
      "years_build_medi                float64\n",
      "commonarea_medi                 float64\n",
      "elevators_medi                  float64\n",
      "entrances_medi                  float64\n",
      "floorsmax_medi                  float64\n",
      "floorsmin_medi                  float64\n",
      "landarea_medi                   float64\n",
      "livingapartments_medi           float64\n",
      "livingarea_medi                 float64\n",
      "nonlivingapartments_medi        float64\n",
      "nonlivingarea_medi              float64\n",
      "fondkapremont_mode              object\n",
      "housetype_mode                  object\n",
      "totalarea_mode                  float64\n",
      "wallsmaterial_mode              object\n",
      "emergencystate_mode             object\n",
      "obs_30_cnt_social_circle        float64\n",
      "def_30_cnt_social_circle        float64\n",
      "obs_60_cnt_social_circle        float64\n",
      "def_60_cnt_social_circle        float64\n",
      "days_last_phone_change          float64\n",
      "flag_document_2                 int64\n",
      "flag_document_3                 int64\n",
      "flag_document_4                 int64\n",
      "flag_document_5                 int64\n",
      "flag_document_6                 int64\n",
      "flag_document_7                 int64\n",
      "flag_document_8                 int64\n",
      "flag_document_9                 int64\n",
      "flag_document_10                int64\n",
      "flag_document_11                int64\n",
      "flag_document_12                int64\n",
      "flag_document_13                int64\n",
      "flag_document_14                int64\n",
      "flag_document_15                int64\n",
      "flag_document_16                int64\n",
      "flag_document_17                int64\n",
      "flag_document_18                int64\n",
      "flag_document_19                int64\n",
      "flag_document_20                int64\n",
      "flag_document_21                int64\n",
      "amt_req_credit_bureau_hour      float64\n",
      "amt_req_credit_bureau_day       float64\n",
      "amt_req_credit_bureau_week      float64\n",
      "amt_req_credit_bureau_mon       float64\n",
      "amt_req_credit_bureau_qrt       float64\n",
      "amt_req_credit_bureau_year      float64\n",
      "dtypes: float64(65), int64(40), object(16)\n",
      "memory usage: 45.0+ MB\n"
     ]
    }
   ],
   "source": [
    "test_df.info(verbose=True)"
   ]
  },
  {
   "cell_type": "code",
   "execution_count": 47,
   "metadata": {},
   "outputs": [
    {
     "data": {
      "text/plain": [
       "(48744, 2)"
      ]
     },
     "execution_count": 47,
     "metadata": {},
     "output_type": "execute_result"
    }
   ],
   "source": [
    "best_estimator = grid_search.best_estimator_\n",
    "best_model = best_estimator.fit(X_train, y_train)\n",
    "y_pred = best_model.predict_proba(test_df)\n",
    "y_pred.shape"
   ]
  },
  {
   "cell_type": "code",
   "execution_count": 48,
   "metadata": {},
   "outputs": [
    {
     "data": {
      "text/plain": [
       "array([ 0.42711473,  0.61193677,  0.39186981,  0.34814794,  0.60948803,\n",
       "        0.31458366,  0.43074024,  0.58842591,  0.41735418,  0.43823343])"
      ]
     },
     "execution_count": 48,
     "metadata": {},
     "output_type": "execute_result"
    }
   ],
   "source": [
    "y_pred[:10, 1]"
   ]
  },
  {
   "cell_type": "markdown",
   "metadata": {},
   "source": [
    "### Save predictions to file"
   ]
  },
  {
   "cell_type": "code",
   "execution_count": 49,
   "metadata": {},
   "outputs": [],
   "source": [
    "submission_file = './submissions/submission.csv'"
   ]
  },
  {
   "cell_type": "code",
   "execution_count": 50,
   "metadata": {},
   "outputs": [
    {
     "data": {
      "text/html": [
       "<div>\n",
       "<style scoped>\n",
       "    .dataframe tbody tr th:only-of-type {\n",
       "        vertical-align: middle;\n",
       "    }\n",
       "\n",
       "    .dataframe tbody tr th {\n",
       "        vertical-align: top;\n",
       "    }\n",
       "\n",
       "    .dataframe thead th {\n",
       "        text-align: right;\n",
       "    }\n",
       "</style>\n",
       "<table border=\"1\" class=\"dataframe\">\n",
       "  <thead>\n",
       "    <tr style=\"text-align: right;\">\n",
       "      <th></th>\n",
       "      <th>SK_ID_CURR</th>\n",
       "      <th>TARGET</th>\n",
       "    </tr>\n",
       "  </thead>\n",
       "  <tbody>\n",
       "    <tr>\n",
       "      <th>0</th>\n",
       "      <td>100001</td>\n",
       "      <td>0.427115</td>\n",
       "    </tr>\n",
       "    <tr>\n",
       "      <th>1</th>\n",
       "      <td>100005</td>\n",
       "      <td>0.611937</td>\n",
       "    </tr>\n",
       "    <tr>\n",
       "      <th>2</th>\n",
       "      <td>100013</td>\n",
       "      <td>0.391870</td>\n",
       "    </tr>\n",
       "    <tr>\n",
       "      <th>3</th>\n",
       "      <td>100028</td>\n",
       "      <td>0.348148</td>\n",
       "    </tr>\n",
       "    <tr>\n",
       "      <th>4</th>\n",
       "      <td>100038</td>\n",
       "      <td>0.609488</td>\n",
       "    </tr>\n",
       "  </tbody>\n",
       "</table>\n",
       "</div>"
      ],
      "text/plain": [
       "   SK_ID_CURR    TARGET\n",
       "0      100001  0.427115\n",
       "1      100005  0.611937\n",
       "2      100013  0.391870\n",
       "3      100028  0.348148\n",
       "4      100038  0.609488"
      ]
     },
     "execution_count": 50,
     "metadata": {},
     "output_type": "execute_result"
    }
   ],
   "source": [
    "result_df = DataFrame({'SK_ID_CURR': test_df['sk_id_curr'],\n",
    "                       'TARGET': y_pred[:, 1]})\n",
    "result_df.head()"
   ]
  },
  {
   "cell_type": "code",
   "execution_count": 51,
   "metadata": {},
   "outputs": [
    {
     "name": "stdout",
     "output_type": "stream",
     "text": [
      "SK_ID_CURR,TARGET\r\n",
      "100001,0.4271147280618766\r\n",
      "100005,0.6119367668649773\r\n",
      "100013,0.39186980847233704\r\n",
      "100028,0.3481479433124779\r\n",
      "100038,0.6094880337958517\r\n",
      "100042,0.31458366447785097\r\n",
      "100057,0.4307402447451705\r\n",
      "100065,0.5884259122975064\r\n",
      "100066,0.4173541787330521\r\n"
     ]
    }
   ],
   "source": [
    "result_df.to_csv(submission_file, index=False)\n",
    "!head {submission_file}"
   ]
  },
  {
   "cell_type": "markdown",
   "metadata": {},
   "source": [
    "### Submit to Kaggle"
   ]
  },
  {
   "cell_type": "code",
   "execution_count": 52,
   "metadata": {},
   "outputs": [
    {
     "name": "stdout",
     "output_type": "stream",
     "text": [
      "Successfully submitted to Home Credit Default Risk"
     ]
    }
   ],
   "source": [
    "!kaggle competitions submit -c home-credit-default-risk -f {submission_file} -m \" \""
   ]
  },
  {
   "cell_type": "code",
   "execution_count": 53,
   "metadata": {},
   "outputs": [
    {
     "name": "stdout",
     "output_type": "stream",
     "text": [
      "fileName        date                 description  status    publicScore  privateScore  \r\n",
      "--------------  -------------------  -----------  --------  -----------  ------------  \r\n",
      "submission.csv  2018-06-03 12:31:14               complete  0.638        None          \r\n",
      "submission.csv  2018-06-02 22:57:59               complete  0.650        None          \r\n",
      "submission.csv  2018-06-02 10:05:31               complete  0.690        None          \r\n",
      "submission.csv  2018-06-01 14:10:18               complete  0.673        None          \r\n",
      "submission.csv  2018-06-01 13:44:23               complete  0.648        None          \r\n",
      "submission.csv  2018-05-31 12:17:41               complete  0.663        None          \r\n",
      "submission.csv  2018-05-31 09:39:38  Baseline     complete  0.639        None          \r\n",
      "submission.csv  2018-05-31 09:38:44  Baseline     error     None         None          \r\n"
     ]
    }
   ],
   "source": [
    "!kaggle competitions submissions -c home-credit-default-risk"
   ]
  },
  {
   "cell_type": "code",
   "execution_count": null,
   "metadata": {},
   "outputs": [],
   "source": []
  },
  {
   "cell_type": "code",
   "execution_count": null,
   "metadata": {},
   "outputs": [],
   "source": []
  },
  {
   "cell_type": "code",
   "execution_count": null,
   "metadata": {},
   "outputs": [],
   "source": []
  },
  {
   "cell_type": "code",
   "execution_count": null,
   "metadata": {},
   "outputs": [],
   "source": []
  },
  {
   "cell_type": "code",
   "execution_count": null,
   "metadata": {},
   "outputs": [],
   "source": []
  }
 ],
 "metadata": {
  "kernelspec": {
   "display_name": "Python 3",
   "language": "python",
   "name": "python3"
  },
  "language_info": {
   "codemirror_mode": {
    "name": "ipython",
    "version": 3
   },
   "file_extension": ".py",
   "mimetype": "text/x-python",
   "name": "python",
   "nbconvert_exporter": "python",
   "pygments_lexer": "ipython3",
   "version": "3.6.5"
  }
 },
 "nbformat": 4,
 "nbformat_minor": 2
}
