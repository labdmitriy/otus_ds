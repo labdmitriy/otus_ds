{
 "cells": [
  {
   "cell_type": "code",
   "execution_count": 1,
   "metadata": {},
   "outputs": [],
   "source": [
    "from time import sleep\n",
    "import requests\n",
    "\n",
    "import numpy as np\n",
    "import pandas as pd\n",
    "from pandas import Series, DataFrame\n",
    "\n",
    "import matplotlib.pyplot as plt\n",
    "import seaborn as sns\n",
    "%matplotlib inline"
   ]
  },
  {
   "cell_type": "code",
   "execution_count": null,
   "metadata": {},
   "outputs": [],
   "source": []
  },
  {
   "cell_type": "markdown",
   "metadata": {},
   "source": [
    "### План получения данных пользователей vk\n",
    "- Получение данные пользователей - друзей в vk\n",
    "    - Оставить только друзей, кто не удален и не забанен\n",
    "    - По каждому из активных друзей \n",
    "        - Сохранить общую информацию о пользователе\n",
    "            - Название города (city.title)\n",
    "            - Идентификатор факультета (faculty)\n",
    "            - Идентификатор университета (university)\n",
    "            - Год окончания университета (graduation)\n",
    "            - Кол-во подписчиков у пользователя (followers_count)\n",
    "            - Пол пользователя (sex) - является целевой переменной (1 - женский пол, 2 - мужской пол)\n",
    "        - Сохранить все сообщения на стене, авторами которых они являются"
   ]
  },
  {
   "cell_type": "markdown",
   "metadata": {},
   "source": [
    "### ! Delete before commiting !"
   ]
  },
  {
   "cell_type": "code",
   "execution_count": 1,
   "metadata": {},
   "outputs": [
    {
     "data": {
      "text/plain": [
       "{'v': '5.78', 'access_token': ''}"
      ]
     },
     "execution_count": 1,
     "metadata": {},
     "output_type": "execute_result"
    }
   ],
   "source": [
    "url = 'https://api.vk.com/method/{}'\n",
    "access_token = ''\n",
    "version = '5.78'\n",
    "\n",
    "payload = {'v': version, 'access_token': access_token}\n",
    "payload"
   ]
  },
  {
   "cell_type": "code",
   "execution_count": null,
   "metadata": {},
   "outputs": [],
   "source": []
  },
  {
   "cell_type": "markdown",
   "metadata": {},
   "source": [
    "## Get users' data from VK"
   ]
  },
  {
   "cell_type": "markdown",
   "metadata": {},
   "source": [
    "### Get users"
   ]
  },
  {
   "cell_type": "code",
   "execution_count": 6,
   "metadata": {},
   "outputs": [
    {
     "data": {
      "text/plain": [
       "(243, [4813, 24499, 34498, 42559, 47788, 59524, 65555, 171140, 187179, 191404])"
      ]
     },
     "execution_count": 6,
     "metadata": {},
     "output_type": "execute_result"
    }
   ],
   "source": [
    "res = requests.get(url.format('friends.get'), params=payload)\n",
    "users_count = res.json()['response']['count']\n",
    "users_id = res.json()['response']['items']\n",
    "users_count, users_id[:10]"
   ]
  },
  {
   "cell_type": "code",
   "execution_count": 7,
   "metadata": {},
   "outputs": [
    {
     "data": {
      "text/plain": [
       "(234, [4813, 24499, 34498, 42559, 47788, 59524, 65555, 171140, 187179, 191404])"
      ]
     },
     "execution_count": 7,
     "metadata": {},
     "output_type": "execute_result"
    }
   ],
   "source": [
    "users_payload = payload.copy()\n",
    "users_payload['user_ids'] = ','.join([str(user_id) for user_id in users_id])\n",
    "users_payload\n",
    "\n",
    "res = requests.get(url.format('users.get'), params=users_payload)\n",
    "\n",
    "users_df = pd.io.json.json_normalize(res.json()['response'])\n",
    "active_users_df = users_df.loc[users_df['deactivated'].isnull()]\n",
    "active_users_id = active_users_df['id'].tolist()\n",
    "len(active_users_id), active_users_id[:10]"
   ]
  },
  {
   "cell_type": "code",
   "execution_count": null,
   "metadata": {},
   "outputs": [],
   "source": []
  },
  {
   "cell_type": "markdown",
   "metadata": {},
   "source": [
    "### Filter active users"
   ]
  },
  {
   "cell_type": "code",
   "execution_count": 9,
   "metadata": {},
   "outputs": [
    {
     "data": {
      "text/html": [
       "<div>\n",
       "<style scoped>\n",
       "    .dataframe tbody tr th:only-of-type {\n",
       "        vertical-align: middle;\n",
       "    }\n",
       "\n",
       "    .dataframe tbody tr th {\n",
       "        vertical-align: top;\n",
       "    }\n",
       "\n",
       "    .dataframe thead th {\n",
       "        text-align: right;\n",
       "    }\n",
       "</style>\n",
       "<table border=\"1\" class=\"dataframe\">\n",
       "  <thead>\n",
       "    <tr style=\"text-align: right;\">\n",
       "      <th></th>\n",
       "      <th>city.id</th>\n",
       "      <th>city.title</th>\n",
       "      <th>education_form</th>\n",
       "      <th>education_status</th>\n",
       "      <th>faculty</th>\n",
       "      <th>faculty_name</th>\n",
       "      <th>first_name</th>\n",
       "      <th>followers_count</th>\n",
       "      <th>graduation</th>\n",
       "      <th>id</th>\n",
       "      <th>last_name</th>\n",
       "      <th>sex</th>\n",
       "      <th>university</th>\n",
       "      <th>university_name</th>\n",
       "    </tr>\n",
       "  </thead>\n",
       "  <tbody>\n",
       "    <tr>\n",
       "      <th>0</th>\n",
       "      <td>1.0</td>\n",
       "      <td>Москва</td>\n",
       "      <td>Очное отделение</td>\n",
       "      <td>Студент (специалист)</td>\n",
       "      <td>1124.0</td>\n",
       "      <td>Институт управления и информационных технологи...</td>\n",
       "      <td>Павел</td>\n",
       "      <td>277</td>\n",
       "      <td>2010.0</td>\n",
       "      <td>4813</td>\n",
       "      <td>Калугин</td>\n",
       "      <td>2</td>\n",
       "      <td>263.0</td>\n",
       "      <td>РУТ (МИИТ) (бывш. МГУПС Императора Николая II)</td>\n",
       "    </tr>\n",
       "    <tr>\n",
       "      <th>1</th>\n",
       "      <td>1.0</td>\n",
       "      <td>Москва</td>\n",
       "      <td>Очное отделение</td>\n",
       "      <td>NaN</td>\n",
       "      <td>2610.0</td>\n",
       "      <td>Факультет психологии</td>\n",
       "      <td>Натали</td>\n",
       "      <td>147</td>\n",
       "      <td>0.0</td>\n",
       "      <td>24499</td>\n",
       "      <td>Красовская</td>\n",
       "      <td>1</td>\n",
       "      <td>1276.0</td>\n",
       "      <td>МГОУ (бывш. МОПИ им. Н. К. Крупской)</td>\n",
       "    </tr>\n",
       "    <tr>\n",
       "      <th>2</th>\n",
       "      <td>53.0</td>\n",
       "      <td>Жуковский</td>\n",
       "      <td>Очное отделение</td>\n",
       "      <td>Студентка (специалист)</td>\n",
       "      <td>356.0</td>\n",
       "      <td>Финансовый</td>\n",
       "      <td>Татьяна</td>\n",
       "      <td>390</td>\n",
       "      <td>2010.0</td>\n",
       "      <td>34498</td>\n",
       "      <td>Корнилова</td>\n",
       "      <td>1</td>\n",
       "      <td>87.0</td>\n",
       "      <td>Финансовый университет (бывш. ГУМФ)</td>\n",
       "    </tr>\n",
       "    <tr>\n",
       "      <th>3</th>\n",
       "      <td>1.0</td>\n",
       "      <td>Москва</td>\n",
       "      <td>Очное отделение</td>\n",
       "      <td>Студент (магистр)</td>\n",
       "      <td>477.0</td>\n",
       "      <td>Международный институт экономики и финансов\\r\\n</td>\n",
       "      <td>Евгений</td>\n",
       "      <td>110</td>\n",
       "      <td>2010.0</td>\n",
       "      <td>42559</td>\n",
       "      <td>Кошелев</td>\n",
       "      <td>2</td>\n",
       "      <td>128.0</td>\n",
       "      <td>НИУ ВШЭ (ГУ-ВШЭ)</td>\n",
       "    </tr>\n",
       "    <tr>\n",
       "      <th>4</th>\n",
       "      <td>3910.0</td>\n",
       "      <td>Звенигород</td>\n",
       "      <td>Очное отделение</td>\n",
       "      <td>NaN</td>\n",
       "      <td>32.0</td>\n",
       "      <td>Механико-математический факультет</td>\n",
       "      <td>Александр</td>\n",
       "      <td>91</td>\n",
       "      <td>2004.0</td>\n",
       "      <td>47788</td>\n",
       "      <td>Соболев</td>\n",
       "      <td>2</td>\n",
       "      <td>2.0</td>\n",
       "      <td>МГУ</td>\n",
       "    </tr>\n",
       "  </tbody>\n",
       "</table>\n",
       "</div>"
      ],
      "text/plain": [
       "   city.id  city.title   education_form        education_status  faculty  \\\n",
       "0      1.0      Москва  Очное отделение    Студент (специалист)   1124.0   \n",
       "1      1.0      Москва  Очное отделение                     NaN   2610.0   \n",
       "2     53.0   Жуковский  Очное отделение  Студентка (специалист)    356.0   \n",
       "3      1.0      Москва  Очное отделение       Студент (магистр)    477.0   \n",
       "4   3910.0  Звенигород  Очное отделение                     NaN     32.0   \n",
       "\n",
       "                                        faculty_name first_name  \\\n",
       "0  Институт управления и информационных технологи...      Павел   \n",
       "1                               Факультет психологии     Натали   \n",
       "2                                         Финансовый    Татьяна   \n",
       "3    Международный институт экономики и финансов\\r\\n    Евгений   \n",
       "4                  Механико-математический факультет  Александр   \n",
       "\n",
       "   followers_count  graduation     id   last_name  sex  university  \\\n",
       "0              277      2010.0   4813     Калугин    2       263.0   \n",
       "1              147         0.0  24499  Красовская    1      1276.0   \n",
       "2              390      2010.0  34498   Корнилова    1        87.0   \n",
       "3              110      2010.0  42559     Кошелев    2       128.0   \n",
       "4               91      2004.0  47788     Соболев    2         2.0   \n",
       "\n",
       "                                  university_name  \n",
       "0  РУТ (МИИТ) (бывш. МГУПС Императора Николая II)  \n",
       "1            МГОУ (бывш. МОПИ им. Н. К. Крупской)  \n",
       "2             Финансовый университет (бывш. ГУМФ)  \n",
       "3                                НИУ ВШЭ (ГУ-ВШЭ)  \n",
       "4                                             МГУ  "
      ]
     },
     "execution_count": 9,
     "metadata": {},
     "output_type": "execute_result"
    }
   ],
   "source": [
    "active_users_payload = payload.copy()\n",
    "active_users_payload['user_ids'] = ','.join([str(user_id) for user_id in active_users_id])\n",
    "active_users_payload['fields'] = 'city,education,followers_count,sex'\n",
    "\n",
    "res = requests.get(url.format('users.get'), params=active_users_payload)\n",
    "active_users_df = pd.io.json.json_normalize(res.json()['response'])\n",
    "active_users_df.head()"
   ]
  },
  {
   "cell_type": "code",
   "execution_count": 10,
   "metadata": {},
   "outputs": [],
   "source": [
    "active_users_df.to_json('./data/active_users.json', orient='records')"
   ]
  },
  {
   "cell_type": "code",
   "execution_count": 12,
   "metadata": {},
   "outputs": [
    {
     "data": {
      "text/plain": [
       "(234, 14)"
      ]
     },
     "execution_count": 12,
     "metadata": {},
     "output_type": "execute_result"
    }
   ],
   "source": [
    "active_users_df.shape"
   ]
  },
  {
   "cell_type": "code",
   "execution_count": 13,
   "metadata": {},
   "outputs": [
    {
     "data": {
      "text/plain": [
       "2    121\n",
       "1    113\n",
       "Name: sex, dtype: int64"
      ]
     },
     "execution_count": 13,
     "metadata": {},
     "output_type": "execute_result"
    }
   ],
   "source": [
    "active_users_df['sex'].value_counts()"
   ]
  },
  {
   "cell_type": "code",
   "execution_count": null,
   "metadata": {},
   "outputs": [],
   "source": []
  },
  {
   "cell_type": "markdown",
   "metadata": {},
   "source": [
    "### Get all active users' posts"
   ]
  },
  {
   "cell_type": "code",
   "execution_count": 16,
   "metadata": {},
   "outputs": [
    {
     "data": {
      "text/plain": [
       "[<FileHandler /home/dlabazkin/Education/otus/Lesson_17/Homework/logs/vk_gather.log (NOTSET)>]"
      ]
     },
     "execution_count": 16,
     "metadata": {},
     "output_type": "execute_result"
    }
   ],
   "source": [
    "import logging\n",
    "from imp import reload\n",
    "reload(logging)\n",
    "\n",
    "logger = logging.getLogger('vk_gather')\n",
    "logger.handlers = []\n",
    "\n",
    "fh = logging.FileHandler('./logs/vk_gather.log', mode='w')\n",
    "logger.addHandler(fh)\n",
    "logger.setLevel(logging.INFO)\n",
    "    \n",
    "logger.handlers"
   ]
  },
  {
   "cell_type": "code",
   "execution_count": 17,
   "metadata": {},
   "outputs": [
    {
     "name": "stdout",
     "output_type": "stream",
     "text": [
      "Users count: 10\n",
      "Users count: 20\n",
      "Users count: 30\n",
      "Users count: 40\n",
      "Users count: 50\n",
      "Users count: 60\n",
      "Users count: 70\n",
      "Users count: 80\n",
      "Users count: 90\n",
      "Users count: 100\n",
      "Users count: 110\n",
      "Users count: 120\n",
      "Users count: 130\n",
      "Users count: 140\n",
      "Users count: 150\n",
      "Users count: 160\n",
      "Users count: 170\n",
      "Users count: 180\n",
      "Users count: 190\n",
      "Users count: 200\n",
      "Users count: 210\n",
      "Users count: 220\n"
     ]
    }
   ],
   "source": [
    "wall_payload = payload.copy()\n",
    "wall_count = 100\n",
    "wall_payload['count'] = wall_count\n",
    "wall_payload['filter'] = 'owner'\n",
    "\n",
    "all_texts_df = DataFrame(columns = ['user_id', 'text'])\n",
    "\n",
    "users_count = 0\n",
    "posts_count = 0\n",
    "\n",
    "logger.info('Total active users count: {}'.format(len(active_users_id)))\n",
    "\n",
    "for user_id in active_users_id:\n",
    "    offset = 0\n",
    "    \n",
    "    wall_payload['offset'] = offset\n",
    "    wall_payload['owner_id'] = user_id\n",
    "    \n",
    "    res = requests.get(url.format('wall.get'), params=wall_payload)\n",
    "    total_wall_count = res.json()['response']['count']\n",
    "    \n",
    "    try:\n",
    "        posts = res.json()['response']['items']\n",
    "    except KeyError:\n",
    "        logging.error('Error: {}'.format(res.json()['error']))\n",
    "        raise\n",
    "    \n",
    "    logger.info('user_id: {}, # posts: {}'.format(user_id, total_wall_count))\n",
    "    \n",
    "    if not posts:\n",
    "        continue\n",
    "        \n",
    "    texts = pd.io.json.json_normalize(posts)['text']\n",
    "    texts_df = DataFrame({'user_id': user_id, 'text': texts})        \n",
    "    all_texts_df = all_texts_df.append(texts_df, ignore_index=True)\n",
    "    posts_count += len(texts)\n",
    "    \n",
    "    while True:\n",
    "        sleep(0.5)\n",
    "        offset += wall_count\n",
    "        wall_payload['offset'] = offset\n",
    "        \n",
    "        res = requests.get(url.format('wall.get'), params=wall_payload)\n",
    "        \n",
    "        try:\n",
    "            posts = res.json()['response']['items']\n",
    "        except KeyError:\n",
    "            logging.error('Error: {}'.format(res.json()['error']))\n",
    "            raise\n",
    "            \n",
    "        if not posts:\n",
    "            break\n",
    "            \n",
    "        texts = pd.io.json.json_normalize(posts)['text']\n",
    "        texts_df = DataFrame({'user_id': user_id, 'text': texts})        \n",
    "        all_texts_df = all_texts_df.append(texts_df, ignore_index=True)\n",
    "        posts_count += len(texts)\n",
    "        \n",
    "    users_count += 1\n",
    "    \n",
    "    \n",
    "    if (users_count % 10) == 0:\n",
    "        print('Users count: {}'.format((users_count)))\n",
    "        \n",
    "logger.info('Total active users count with posts: {}'.format(users_count))\n",
    "logger.info('Total posts count: {}'.format(posts_count))"
   ]
  },
  {
   "cell_type": "code",
   "execution_count": 18,
   "metadata": {},
   "outputs": [],
   "source": [
    "all_texts_df.to_json('./data/all_texts.json', orient='records')"
   ]
  },
  {
   "cell_type": "code",
   "execution_count": 19,
   "metadata": {},
   "outputs": [
    {
     "name": "stdout",
     "output_type": "stream",
     "text": [
      "237 ./logs/vk_gather.log\n",
      "Total active users count: 234\n",
      "Total active users count with posts: 225\n",
      "Total posts count: 102454\n"
     ]
    }
   ],
   "source": [
    "!wc -l ./logs/vk_gather.log\n",
    "!head -1 ./logs/vk_gather.log\n",
    "!tail -2 ./logs/vk_gather.log"
   ]
  },
  {
   "cell_type": "code",
   "execution_count": 20,
   "metadata": {},
   "outputs": [
    {
     "data": {
      "text/plain": [
       "(102454, 2)"
      ]
     },
     "execution_count": 20,
     "metadata": {},
     "output_type": "execute_result"
    }
   ],
   "source": [
    "all_texts_df.shape"
   ]
  },
  {
   "cell_type": "code",
   "execution_count": null,
   "metadata": {},
   "outputs": [],
   "source": []
  },
  {
   "cell_type": "markdown",
   "metadata": {},
   "source": [
    "### Информация о собранных данных\n",
    "- Общее кол-во пользователей - 234\n",
    "    - Женский пол - 121\n",
    "    - Мужской пол - 113\n",
    "- Общее кол-во собранных сообщений - 102454"
   ]
  },
  {
   "cell_type": "code",
   "execution_count": null,
   "metadata": {},
   "outputs": [],
   "source": []
  }
 ],
 "metadata": {
  "kernelspec": {
   "display_name": "Python 3",
   "language": "python",
   "name": "python3"
  },
  "language_info": {
   "codemirror_mode": {
    "name": "ipython",
    "version": 3
   },
   "file_extension": ".py",
   "mimetype": "text/x-python",
   "name": "python",
   "nbconvert_exporter": "python",
   "pygments_lexer": "ipython3",
   "version": "3.6.5"
  }
 },
 "nbformat": 4,
 "nbformat_minor": 2
}
