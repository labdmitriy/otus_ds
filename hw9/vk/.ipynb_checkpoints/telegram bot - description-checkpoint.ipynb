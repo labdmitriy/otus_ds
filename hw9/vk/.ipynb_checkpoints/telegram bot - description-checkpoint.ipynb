{
 "cells": [
  {
   "cell_type": "markdown",
   "metadata": {},
   "source": [
    "- Из кода были удалены данные о токенах для vk и telegram, работа telegram-бота тестировалась при его локальном запуске отдельным процессом (не сервис), поэтому на данный момент созданный бот (vk_ml) выключен.  \n",
    "- Для проверки, можно создать нового бота, указать токены и запустить его (например, командой python main.py)\n",
    "- Ниже отображен скриншот работы созданного бота при его локальном тестировании"
   ]
  },
  {
   "cell_type": "markdown",
   "metadata": {},
   "source": [
    "<img src='./images/Telegram_Bot.PNG'>"
   ]
  },
  {
   "cell_type": "code",
   "execution_count": null,
   "metadata": {},
   "outputs": [],
   "source": []
  }
 ],
 "metadata": {
  "kernelspec": {
   "display_name": "Python 3",
   "language": "python",
   "name": "python3"
  },
  "language_info": {
   "codemirror_mode": {
    "name": "ipython",
    "version": 3
   },
   "file_extension": ".py",
   "mimetype": "text/x-python",
   "name": "python",
   "nbconvert_exporter": "python",
   "pygments_lexer": "ipython3",
   "version": "3.6.5"
  }
 },
 "nbformat": 4,
 "nbformat_minor": 2
}
